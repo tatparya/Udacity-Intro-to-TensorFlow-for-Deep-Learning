{
  "nbformat": 4,
  "nbformat_minor": 0,
  "metadata": {
    "colab": {
      "name": "l08c06_forecasting_with_rnn.ipynb",
      "provenance": [],
      "collapsed_sections": [
        "vidayERjaO5q"
      ],
      "toc_visible": true
    },
    "kernelspec": {
      "display_name": "Python 3",
      "name": "python3"
    }
  },
  "cells": [
    {
      "cell_type": "markdown",
      "metadata": {
        "id": "Za8-Nr5k11fh"
      },
      "source": [
        "##### Copyright 2018 The TensorFlow Authors."
      ]
    },
    {
      "cell_type": "code",
      "metadata": {
        "cellView": "form",
        "id": "Eq10uEbw0E4l"
      },
      "source": [
        "#@title Licensed under the Apache License, Version 2.0 (the \"License\");\n",
        "# you may not use this file except in compliance with the License.\n",
        "# You may obtain a copy of the License at\n",
        "#\n",
        "# https://www.apache.org/licenses/LICENSE-2.0\n",
        "#\n",
        "# Unless required by applicable law or agreed to in writing, software\n",
        "# distributed under the License is distributed on an \"AS IS\" BASIS,\n",
        "# WITHOUT WARRANTIES OR CONDITIONS OF ANY KIND, either express or implied.\n",
        "# See the License for the specific language governing permissions and\n",
        "# limitations under the License."
      ],
      "execution_count": null,
      "outputs": []
    },
    {
      "cell_type": "markdown",
      "metadata": {
        "id": "nuRx7K-sirJr"
      },
      "source": [
        "# Forecasting with an RNN"
      ]
    },
    {
      "cell_type": "markdown",
      "metadata": {
        "id": "97jsq1rHh2Ds"
      },
      "source": [
        "<table class=\"tfo-notebook-buttons\" align=\"left\">\n",
        "  <td>\n",
        "    <a target=\"_blank\" href=\"https://colab.research.google.com/github/tensorflow/examples/blob/master/courses/udacity_intro_to_tensorflow_for_deep_learning/l08c06_forecasting_with_rnn.ipynb\"><img src=\"https://www.tensorflow.org/images/colab_logo_32px.png\" />Run in Google Colab</a>\n",
        "  </td>\n",
        "  <td>\n",
        "    <a target=\"_blank\" href=\"https://github.com/tensorflow/examples/blob/master/courses/udacity_intro_to_tensorflow_for_deep_learning/l08c06_forecasting_with_rnn.ipynb\"><img src=\"https://www.tensorflow.org/images/GitHub-Mark-32px.png\" />View source on GitHub</a>\n",
        "  </td>\n",
        "</table>"
      ]
    },
    {
      "cell_type": "markdown",
      "metadata": {
        "id": "vidayERjaO5q"
      },
      "source": [
        "## Setup"
      ]
    },
    {
      "cell_type": "code",
      "metadata": {
        "id": "gqWabzlJ63nL"
      },
      "source": [
        "import numpy as np\n",
        "import matplotlib.pyplot as plt\n",
        "import tensorflow as tf\n",
        "\n",
        "keras = tf.keras"
      ],
      "execution_count": 1,
      "outputs": []
    },
    {
      "cell_type": "code",
      "metadata": {
        "id": "cg1hfKCPldZG"
      },
      "source": [
        "def plot_series(time, series, format=\"-\", start=0, end=None, label=None):\n",
        "    plt.plot(time[start:end], series[start:end], format, label=label)\n",
        "    plt.xlabel(\"Time\")\n",
        "    plt.ylabel(\"Value\")\n",
        "    if label:\n",
        "        plt.legend(fontsize=14)\n",
        "    plt.grid(True)\n",
        "    \n",
        "def trend(time, slope=0):\n",
        "    return slope * time\n",
        "  \n",
        "  \n",
        "def seasonal_pattern(season_time):\n",
        "    \"\"\"Just an arbitrary pattern, you can change it if you wish\"\"\"\n",
        "    return np.where(season_time < 0.4,\n",
        "                    np.cos(season_time * 2 * np.pi),\n",
        "                    1 / np.exp(3 * season_time))\n",
        "\n",
        "  \n",
        "def seasonality(time, period, amplitude=1, phase=0):\n",
        "    \"\"\"Repeats the same pattern at each period\"\"\"\n",
        "    season_time = ((time + phase) % period) / period\n",
        "    return amplitude * seasonal_pattern(season_time)\n",
        "  \n",
        "  \n",
        "def white_noise(time, noise_level=1, seed=None):\n",
        "    rnd = np.random.RandomState(seed)\n",
        "    return rnd.randn(len(time)) * noise_level\n",
        "  \n",
        "  \n",
        "def window_dataset(series, window_size, batch_size=32,\n",
        "                   shuffle_buffer=1000):\n",
        "    dataset = tf.data.Dataset.from_tensor_slices(series)\n",
        "    dataset = dataset.window(window_size + 1, shift=1, drop_remainder=True)\n",
        "    dataset = dataset.flat_map(lambda window: window.batch(window_size + 1))\n",
        "    dataset = dataset.shuffle(shuffle_buffer)\n",
        "    dataset = dataset.map(lambda window: (window[:-1], window[-1]))\n",
        "    dataset = dataset.batch(batch_size).prefetch(1)\n",
        "    return dataset\n",
        "  \n",
        "def model_forecast(model, series, window_size):\n",
        "    ds = tf.data.Dataset.from_tensor_slices(series)\n",
        "    ds = ds.window(window_size, shift=1, drop_remainder=True)\n",
        "    ds = ds.flat_map(lambda w: w.batch(window_size))\n",
        "    ds = ds.batch(32).prefetch(1)\n",
        "    forecast = model.predict(ds)\n",
        "    return forecast"
      ],
      "execution_count": 2,
      "outputs": []
    },
    {
      "cell_type": "code",
      "metadata": {
        "id": "iL2DDjV3lel6",
        "outputId": "de66b87f-789f-43a4-cb61-e4d7ab644b0f",
        "colab": {
          "base_uri": "https://localhost:8080/",
          "height": 388
        }
      },
      "source": [
        "time = np.arange(4 * 365 + 1)\n",
        "\n",
        "slope = 0.05\n",
        "baseline = 10\n",
        "amplitude = 40\n",
        "series = baseline + trend(time, slope) + seasonality(time, period=365, amplitude=amplitude)\n",
        "\n",
        "noise_level = 5\n",
        "noise = white_noise(time, noise_level, seed=42)\n",
        "\n",
        "series += noise\n",
        "\n",
        "plt.figure(figsize=(10, 6))\n",
        "plot_series(time, series)\n",
        "plt.show()"
      ],
      "execution_count": 3,
      "outputs": [
        {
          "output_type": "display_data",
          "data": {
            "image/png": "[encoded data removed]",
            "text/plain": [
              "<Figure size 720x432 with 1 Axes>"
            ]
          },
          "metadata": {
            "tags": [],
            "needs_background": "light"
          }
        }
      ]
    },
    {
      "cell_type": "code",
      "metadata": {
        "id": "Zmp1JXKxk9Vb"
      },
      "source": [
        "split_time = 1000\n",
        "time_train = time[:split_time]\n",
        "x_train = series[:split_time]\n",
        "time_valid = time[split_time:]\n",
        "x_valid = series[split_time:]"
      ],
      "execution_count": 4,
      "outputs": []
    },
    {
      "cell_type": "markdown",
      "metadata": {
        "id": "vDs_w3kZ8OIw"
      },
      "source": [
        "## Simple RNN Forecasting"
      ]
    },
    {
      "cell_type": "code",
      "metadata": {
        "id": "YU4xRp9G8OIx",
        "outputId": "f45ebf9c-9d18-42ce-f702-a6d0c4c2bf82",
        "colab": {
          "base_uri": "https://localhost:8080/"
        }
      },
      "source": [
        "keras.backend.clear_session()\n",
        "tf.random.set_seed(42)\n",
        "np.random.seed(42)\n",
        "\n",
        "window_size = 30\n",
        "train_set = window_dataset(x_train, window_size, batch_size=128)\n",
        "\n",
        "model = keras.models.Sequential([\n",
        "  keras.layers.Lambda(lambda x: tf.expand_dims(x, axis=-1),\n",
        "                      input_shape=[None]),\n",
        "  keras.layers.SimpleRNN(100, return_sequences=True),\n",
        "  keras.layers.SimpleRNN(100),\n",
        "  keras.layers.Dense(1),\n",
        "  keras.layers.Lambda(lambda x: x * 200.0)\n",
        "])\n",
        "lr_schedule = keras.callbacks.LearningRateScheduler(\n",
        "    lambda epoch: 1e-7 * 10**(epoch / 20))\n",
        "optimizer = keras.optimizers.SGD(lr=1e-7, momentum=0.9)\n",
        "model.compile(loss=keras.losses.Huber(),\n",
        "              optimizer=optimizer,\n",
        "              metrics=[\"mae\"])\n",
        "history = model.fit(train_set, epochs=100, callbacks=[lr_schedule])"
      ],
      "execution_count": 5,
      "outputs": [
        {
          "output_type": "stream",
          "text": [
            "Epoch 1/100\n",
            "8/8 [==============================] - 2s 41ms/step - loss: 56.7842 - mae: 57.2841\n",
            "Epoch 2/100\n",
            "8/8 [==============================] - 0s 36ms/step - loss: 20.7913 - mae: 21.2817\n",
            "Epoch 3/100\n",
            "8/8 [==============================] - 0s 36ms/step - loss: 21.4339 - mae: 21.9282\n",
            "Epoch 4/100\n",
            "8/8 [==============================] - 0s 35ms/step - loss: 17.3767 - mae: 17.8684\n",
            "Epoch 5/100\n",
            "8/8 [==============================] - 0s 36ms/step - loss: 15.5281 - mae: 16.0177\n",
            "Epoch 6/100\n",
            "8/8 [==============================] - 0s 37ms/step - loss: 14.7527 - mae: 15.2405\n",
            "Epoch 7/100\n",
            "8/8 [==============================] - 0s 36ms/step - loss: 15.4067 - mae: 15.8934\n",
            "Epoch 8/100\n",
            "8/8 [==============================] - 0s 36ms/step - loss: 15.3333 - mae: 15.8238\n",
            "Epoch 9/100\n",
            "8/8 [==============================] - 0s 36ms/step - loss: 14.1437 - mae: 14.6292\n",
            "Epoch 10/100\n",
            "8/8 [==============================] - 0s 36ms/step - loss: 13.8240 - mae: 14.3111\n",
            "Epoch 11/100\n",
            "8/8 [==============================] - 0s 35ms/step - loss: 13.5632 - mae: 14.0512\n",
            "Epoch 12/100\n",
            "8/8 [==============================] - 0s 37ms/step - loss: 14.0125 - mae: 14.4983\n",
            "Epoch 13/100\n",
            "8/8 [==============================] - 0s 35ms/step - loss: 13.5015 - mae: 13.9874\n",
            "Epoch 14/100\n",
            "8/8 [==============================] - 0s 35ms/step - loss: 11.6437 - mae: 12.1294\n",
            "Epoch 15/100\n",
            "8/8 [==============================] - 0s 36ms/step - loss: 11.3404 - mae: 11.8287\n",
            "Epoch 16/100\n",
            "8/8 [==============================] - 0s 35ms/step - loss: 11.8000 - mae: 12.2856\n",
            "Epoch 17/100\n",
            "8/8 [==============================] - 0s 34ms/step - loss: 11.5397 - mae: 12.0277\n",
            "Epoch 18/100\n",
            "8/8 [==============================] - 0s 35ms/step - loss: 11.4592 - mae: 11.9473\n",
            "Epoch 19/100\n",
            "8/8 [==============================] - 0s 36ms/step - loss: 10.6324 - mae: 11.1188\n",
            "Epoch 20/100\n",
            "8/8 [==============================] - 0s 35ms/step - loss: 10.5606 - mae: 11.0401\n",
            "Epoch 21/100\n",
            "8/8 [==============================] - 0s 35ms/step - loss: 11.2549 - mae: 11.7409\n",
            "Epoch 22/100\n",
            "8/8 [==============================] - 0s 36ms/step - loss: 9.9531 - mae: 10.4389\n",
            "Epoch 23/100\n",
            "8/8 [==============================] - 0s 36ms/step - loss: 10.4643 - mae: 10.9484\n",
            "Epoch 24/100\n",
            "8/8 [==============================] - 0s 37ms/step - loss: 10.4736 - mae: 10.9615\n",
            "Epoch 25/100\n",
            "8/8 [==============================] - 0s 37ms/step - loss: 10.2431 - mae: 10.7258\n",
            "Epoch 26/100\n",
            "8/8 [==============================] - 0s 35ms/step - loss: 12.6571 - mae: 13.1472\n",
            "Epoch 27/100\n",
            "8/8 [==============================] - 0s 36ms/step - loss: 10.0723 - mae: 10.5625\n",
            "Epoch 28/100\n",
            "8/8 [==============================] - 0s 37ms/step - loss: 9.3499 - mae: 9.8397\n",
            "Epoch 29/100\n",
            "8/8 [==============================] - 0s 35ms/step - loss: 10.5377 - mae: 11.0248\n",
            "Epoch 30/100\n",
            "8/8 [==============================] - 0s 35ms/step - loss: 13.1089 - mae: 13.6042\n",
            "Epoch 31/100\n",
            "8/8 [==============================] - 0s 35ms/step - loss: 21.9836 - mae: 22.4821\n",
            "Epoch 32/100\n",
            "8/8 [==============================] - 0s 36ms/step - loss: 18.7070 - mae: 19.2055\n",
            "Epoch 33/100\n",
            "8/8 [==============================] - 0s 35ms/step - loss: 18.3236 - mae: 18.8225\n",
            "Epoch 34/100\n",
            "8/8 [==============================] - 0s 36ms/step - loss: 18.3866 - mae: 18.8782\n",
            "Epoch 35/100\n",
            "8/8 [==============================] - 0s 36ms/step - loss: 17.8688 - mae: 18.3637\n",
            "Epoch 36/100\n",
            "8/8 [==============================] - 0s 37ms/step - loss: 17.7473 - mae: 18.2428\n",
            "Epoch 37/100\n",
            "8/8 [==============================] - 0s 37ms/step - loss: 18.3064 - mae: 18.8015\n",
            "Epoch 38/100\n",
            "8/8 [==============================] - 0s 37ms/step - loss: 32.6418 - mae: 33.1413\n",
            "Epoch 39/100\n",
            "8/8 [==============================] - 0s 35ms/step - loss: 21.3256 - mae: 21.8197\n",
            "Epoch 40/100\n",
            "8/8 [==============================] - 0s 36ms/step - loss: 15.2448 - mae: 15.7395\n",
            "Epoch 41/100\n",
            "8/8 [==============================] - 0s 37ms/step - loss: 8.2270 - mae: 8.7154\n",
            "Epoch 42/100\n",
            "8/8 [==============================] - 0s 37ms/step - loss: 20.4163 - mae: 20.9125\n",
            "Epoch 43/100\n",
            "8/8 [==============================] - 0s 38ms/step - loss: 30.8465 - mae: 31.3439\n",
            "Epoch 44/100\n",
            "8/8 [==============================] - 0s 35ms/step - loss: 45.5750 - mae: 46.0738\n",
            "Epoch 45/100\n",
            "8/8 [==============================] - 0s 36ms/step - loss: 65.1968 - mae: 65.6953\n",
            "Epoch 46/100\n",
            "8/8 [==============================] - 0s 38ms/step - loss: 65.0950 - mae: 65.5938\n",
            "Epoch 47/100\n",
            "8/8 [==============================] - 0s 35ms/step - loss: 74.4851 - mae: 74.9849\n",
            "Epoch 48/100\n",
            "8/8 [==============================] - 0s 37ms/step - loss: 51.2551 - mae: 51.7548\n",
            "Epoch 49/100\n",
            "8/8 [==============================] - 0s 36ms/step - loss: 34.8230 - mae: 35.3204\n",
            "Epoch 50/100\n",
            "8/8 [==============================] - 0s 35ms/step - loss: 32.2318 - mae: 32.7295\n",
            "Epoch 51/100\n",
            "8/8 [==============================] - 0s 35ms/step - loss: 38.9517 - mae: 39.4476\n",
            "Epoch 52/100\n",
            "8/8 [==============================] - 0s 34ms/step - loss: 52.5062 - mae: 53.0038\n",
            "Epoch 53/100\n",
            "8/8 [==============================] - 0s 36ms/step - loss: 88.5565 - mae: 89.0556\n",
            "Epoch 54/100\n",
            "8/8 [==============================] - 0s 35ms/step - loss: 84.7328 - mae: 85.2298\n",
            "Epoch 55/100\n",
            "8/8 [==============================] - 0s 35ms/step - loss: 95.2639 - mae: 95.7639\n",
            "Epoch 56/100\n",
            "8/8 [==============================] - 0s 36ms/step - loss: 71.1082 - mae: 71.6068\n",
            "Epoch 57/100\n",
            "8/8 [==============================] - 0s 36ms/step - loss: 115.8235 - mae: 116.3235\n",
            "Epoch 58/100\n",
            "8/8 [==============================] - 0s 34ms/step - loss: 141.9231 - mae: 142.4231\n",
            "Epoch 59/100\n",
            "8/8 [==============================] - 0s 34ms/step - loss: 58.1327 - mae: 58.6307\n",
            "Epoch 60/100\n",
            "8/8 [==============================] - 0s 34ms/step - loss: 88.9584 - mae: 89.4576\n",
            "Epoch 61/100\n",
            "8/8 [==============================] - 0s 36ms/step - loss: 80.6111 - mae: 81.1111\n",
            "Epoch 62/100\n",
            "8/8 [==============================] - 0s 35ms/step - loss: 85.3187 - mae: 85.8175\n",
            "Epoch 63/100\n",
            "8/8 [==============================] - 0s 34ms/step - loss: 85.5955 - mae: 86.0950\n",
            "Epoch 64/100\n",
            "8/8 [==============================] - 0s 35ms/step - loss: 106.5487 - mae: 107.0485\n",
            "Epoch 65/100\n",
            "8/8 [==============================] - 0s 34ms/step - loss: 133.4228 - mae: 133.9221\n",
            "Epoch 66/100\n",
            "8/8 [==============================] - 0s 37ms/step - loss: 170.9978 - mae: 171.4978\n",
            "Epoch 67/100\n",
            "8/8 [==============================] - 0s 35ms/step - loss: 208.5350 - mae: 209.0345\n",
            "Epoch 68/100\n",
            "8/8 [==============================] - 0s 34ms/step - loss: 305.6895 - mae: 306.1895\n",
            "Epoch 69/100\n",
            "8/8 [==============================] - 0s 36ms/step - loss: 440.1218 - mae: 440.6218\n",
            "Epoch 70/100\n",
            "8/8 [==============================] - 0s 34ms/step - loss: 475.6265 - mae: 476.1265\n",
            "Epoch 71/100\n",
            "8/8 [==============================] - 0s 36ms/step - loss: 556.4975 - mae: 556.9974\n",
            "Epoch 72/100\n",
            "8/8 [==============================] - 0s 34ms/step - loss: 662.1397 - mae: 662.6397\n",
            "Epoch 73/100\n",
            "8/8 [==============================] - 0s 34ms/step - loss: 837.0348 - mae: 837.5348\n",
            "Epoch 74/100\n",
            "8/8 [==============================] - 0s 36ms/step - loss: 838.4300 - mae: 838.9300\n",
            "Epoch 75/100\n",
            "8/8 [==============================] - 0s 35ms/step - loss: 965.9830 - mae: 966.4830\n",
            "Epoch 76/100\n",
            "8/8 [==============================] - 0s 37ms/step - loss: 1127.1466 - mae: 1127.6466\n",
            "Epoch 77/100\n",
            "8/8 [==============================] - 0s 36ms/step - loss: 2052.7487 - mae: 2053.2487\n",
            "Epoch 78/100\n",
            "8/8 [==============================] - 0s 36ms/step - loss: 3004.5544 - mae: 3005.0544\n",
            "Epoch 79/100\n",
            "8/8 [==============================] - 0s 35ms/step - loss: 1866.7260 - mae: 1867.2260\n",
            "Epoch 80/100\n",
            "8/8 [==============================] - 0s 37ms/step - loss: 3547.9859 - mae: 3548.4859\n",
            "Epoch 81/100\n",
            "8/8 [==============================] - 0s 36ms/step - loss: 3479.0275 - mae: 3479.5275\n",
            "Epoch 82/100\n",
            "8/8 [==============================] - 0s 35ms/step - loss: 4432.9939 - mae: 4433.4939\n",
            "Epoch 83/100\n",
            "8/8 [==============================] - 0s 35ms/step - loss: 2803.2731 - mae: 2803.7731\n",
            "Epoch 84/100\n",
            "8/8 [==============================] - 0s 37ms/step - loss: 3358.2331 - mae: 3358.7331\n",
            "Epoch 85/100\n",
            "8/8 [==============================] - 0s 36ms/step - loss: 7176.7500 - mae: 7177.2500\n",
            "Epoch 86/100\n",
            "8/8 [==============================] - 0s 35ms/step - loss: 6679.5706 - mae: 6680.0706\n",
            "Epoch 87/100\n",
            "8/8 [==============================] - 0s 34ms/step - loss: 2310.7041 - mae: 2311.2041\n",
            "Epoch 88/100\n",
            "8/8 [==============================] - 0s 35ms/step - loss: 2685.3431 - mae: 2685.8431\n",
            "Epoch 89/100\n",
            "8/8 [==============================] - 0s 37ms/step - loss: 2543.0991 - mae: 2543.5991\n",
            "Epoch 90/100\n",
            "8/8 [==============================] - 0s 35ms/step - loss: 4910.6166 - mae: 4911.1166\n",
            "Epoch 91/100\n",
            "8/8 [==============================] - 0s 36ms/step - loss: 14130.7766 - mae: 14131.2766\n",
            "Epoch 92/100\n",
            "8/8 [==============================] - 0s 35ms/step - loss: 11685.3478 - mae: 11685.8478\n",
            "Epoch 93/100\n",
            "8/8 [==============================] - 0s 35ms/step - loss: 30986.3837 - mae: 30986.8841\n",
            "Epoch 94/100\n",
            "8/8 [==============================] - 0s 37ms/step - loss: 29350.0441 - mae: 29350.5441\n",
            "Epoch 95/100\n",
            "8/8 [==============================] - 0s 37ms/step - loss: 11948.1991 - mae: 11948.6991\n",
            "Epoch 96/100\n",
            "8/8 [==============================] - 0s 35ms/step - loss: 19279.1909 - mae: 19279.6913\n",
            "Epoch 97/100\n",
            "8/8 [==============================] - 0s 36ms/step - loss: 10766.6285 - mae: 10767.1285\n",
            "Epoch 98/100\n",
            "8/8 [==============================] - 0s 35ms/step - loss: 31219.4807 - mae: 31219.9811\n",
            "Epoch 99/100\n",
            "8/8 [==============================] - 0s 36ms/step - loss: 27263.0046 - mae: 27263.5046\n",
            "Epoch 100/100\n",
            "8/8 [==============================] - 0s 36ms/step - loss: 16039.3832 - mae: 16039.8828\n"
          ],
          "name": "stdout"
        }
      ]
    },
    {
      "cell_type": "code",
      "metadata": {
        "id": "YJTlFAXF8OIy",
        "outputId": "c673be21-0e9a-4020-cbcf-ecfb8d447139",
        "colab": {
          "base_uri": "https://localhost:8080/",
          "height": 290
        }
      },
      "source": [
        "plt.semilogx(history.history[\"lr\"], history.history[\"loss\"])\n",
        "plt.axis([1e-7, 1e-4, 0, 30])"
      ],
      "execution_count": 6,
      "outputs": [
        {
          "output_type": "execute_result",
          "data": {
            "text/plain": [
              "(1e-07, 0.0001, 0.0, 30.0)"
            ]
          },
          "metadata": {
            "tags": []
          },
          "execution_count": 6
        },
        {
          "output_type": "display_data",
          "data": {
            "image/png": "[encoded data removed]",
            "text/plain": [
              "<Figure size 432x288 with 1 Axes>"
            ]
          },
          "metadata": {
            "tags": [],
            "needs_background": "light"
          }
        }
      ]
    },
    {
      "cell_type": "code",
      "metadata": {
        "id": "T3yNjxWE8OIz",
        "outputId": "0d7d9c4b-931c-4450-a95c-cfe9d49ffa6a",
        "colab": {
          "base_uri": "https://localhost:8080/"
        }
      },
      "source": [
        "keras.backend.clear_session()\n",
        "tf.random.set_seed(42)\n",
        "np.random.seed(42)\n",
        "\n",
        "window_size = 30\n",
        "train_set = window_dataset(x_train, window_size, batch_size=128)\n",
        "valid_set = window_dataset(x_valid, window_size, batch_size=128)\n",
        "\n",
        "model = keras.models.Sequential([\n",
        "  keras.layers.Lambda(lambda x: tf.expand_dims(x, axis=-1),\n",
        "                      input_shape=[None]),\n",
        "  keras.layers.SimpleRNN(100, return_sequences=True),\n",
        "  keras.layers.SimpleRNN(100),\n",
        "  keras.layers.Dense(1),\n",
        "  keras.layers.Lambda(lambda x: x * 200.0)\n",
        "])\n",
        "optimizer = keras.optimizers.SGD(lr=1.5e-6, momentum=0.9)\n",
        "model.compile(loss=keras.losses.Huber(),\n",
        "              optimizer=optimizer,\n",
        "              metrics=[\"mae\"])\n",
        "early_stopping = keras.callbacks.EarlyStopping(patience=50)\n",
        "model_checkpoint = keras.callbacks.ModelCheckpoint(\n",
        "    \"my_checkpoint\", save_best_only=True)\n",
        "model.fit(train_set, epochs=500,\n",
        "          validation_data=valid_set,\n",
        "          callbacks=[early_stopping, model_checkpoint])"
      ],
      "execution_count": 7,
      "outputs": [
        {
          "output_type": "stream",
          "text": [
            "Epoch 1/500\n",
            "8/8 [==============================] - 2s 146ms/step - loss: 62.2647 - mae: 62.7631 - val_loss: 53.7733 - val_mae: 54.2733\n",
            "INFO:tensorflow:Assets written to: my_checkpoint/assets\n",
            "Epoch 2/500\n",
            "8/8 [==============================] - 1s 57ms/step - loss: 36.4886 - mae: 36.9861 - val_loss: 17.5200 - val_mae: 18.0162\n",
            "INFO:tensorflow:Assets written to: my_checkpoint/assets\n",
            "Epoch 3/500\n",
            "8/8 [==============================] - 1s 54ms/step - loss: 22.5145 - mae: 23.0086 - val_loss: 18.8170 - val_mae: 19.3139\n",
            "Epoch 4/500\n",
            "8/8 [==============================] - 1s 55ms/step - loss: 16.8477 - mae: 17.3387 - val_loss: 20.0784 - val_mae: 20.5771\n",
            "Epoch 5/500\n",
            "8/8 [==============================] - 1s 56ms/step - loss: 13.6258 - mae: 14.1148 - val_loss: 6.8457 - val_mae: 7.3288\n",
            "INFO:tensorflow:Assets written to: my_checkpoint/assets\n",
            "Epoch 6/500\n",
            "8/8 [==============================] - 1s 57ms/step - loss: 11.3513 - mae: 11.8347 - val_loss: 7.2706 - val_mae: 7.7554\n",
            "Epoch 7/500\n",
            "8/8 [==============================] - 0s 52ms/step - loss: 12.2226 - mae: 12.7052 - val_loss: 11.2745 - val_mae: 11.7678\n",
            "Epoch 8/500\n",
            "8/8 [==============================] - 1s 55ms/step - loss: 10.8847 - mae: 11.3727 - val_loss: 6.3160 - val_mae: 6.8008\n",
            "INFO:tensorflow:Assets written to: my_checkpoint/assets\n",
            "Epoch 9/500\n",
            "8/8 [==============================] - 1s 57ms/step - loss: 9.5607 - mae: 10.0397 - val_loss: 5.4276 - val_mae: 5.9022\n",
            "INFO:tensorflow:Assets written to: my_checkpoint/assets\n",
            "Epoch 10/500\n",
            "8/8 [==============================] - 1s 56ms/step - loss: 8.6526 - mae: 9.1361 - val_loss: 5.4024 - val_mae: 5.8834\n",
            "INFO:tensorflow:Assets written to: my_checkpoint/assets\n",
            "Epoch 11/500\n",
            "8/8 [==============================] - 1s 55ms/step - loss: 9.1765 - mae: 9.6629 - val_loss: 6.5509 - val_mae: 7.0338\n",
            "Epoch 12/500\n",
            "8/8 [==============================] - 1s 97ms/step - loss: 9.0373 - mae: 9.5227 - val_loss: 6.1084 - val_mae: 6.5867\n",
            "Epoch 13/500\n",
            "8/8 [==============================] - 0s 54ms/step - loss: 8.9881 - mae: 9.4689 - val_loss: 6.2306 - val_mae: 6.7114\n",
            "Epoch 14/500\n",
            "8/8 [==============================] - 1s 56ms/step - loss: 8.3243 - mae: 8.8093 - val_loss: 5.7181 - val_mae: 6.2003\n",
            "Epoch 15/500\n",
            "8/8 [==============================] - 1s 56ms/step - loss: 7.8275 - mae: 8.3084 - val_loss: 6.1667 - val_mae: 6.6477\n",
            "Epoch 16/500\n",
            "8/8 [==============================] - 1s 54ms/step - loss: 7.8147 - mae: 8.2980 - val_loss: 7.1292 - val_mae: 7.6132\n",
            "Epoch 17/500\n",
            "8/8 [==============================] - 1s 55ms/step - loss: 8.0847 - mae: 8.5680 - val_loss: 7.2041 - val_mae: 7.6894\n",
            "Epoch 18/500\n",
            "8/8 [==============================] - 1s 55ms/step - loss: 7.0155 - mae: 7.4960 - val_loss: 6.2209 - val_mae: 6.7038\n",
            "Epoch 19/500\n",
            "8/8 [==============================] - 1s 55ms/step - loss: 7.2314 - mae: 7.7118 - val_loss: 5.8517 - val_mae: 6.3349\n",
            "Epoch 20/500\n",
            "8/8 [==============================] - 1s 55ms/step - loss: 7.1530 - mae: 7.6348 - val_loss: 5.8175 - val_mae: 6.2993\n",
            "Epoch 21/500\n",
            "8/8 [==============================] - 1s 56ms/step - loss: 7.4217 - mae: 7.9063 - val_loss: 5.6090 - val_mae: 6.0904\n",
            "Epoch 22/500\n",
            "8/8 [==============================] - 1s 55ms/step - loss: 7.2312 - mae: 7.7072 - val_loss: 5.2088 - val_mae: 5.6917\n",
            "INFO:tensorflow:Assets written to: my_checkpoint/assets\n",
            "Epoch 23/500\n",
            "8/8 [==============================] - 1s 54ms/step - loss: 7.3827 - mae: 7.8605 - val_loss: 5.3233 - val_mae: 5.8034\n",
            "Epoch 24/500\n",
            "8/8 [==============================] - 1s 56ms/step - loss: 6.9834 - mae: 7.4644 - val_loss: 5.9505 - val_mae: 6.4389\n",
            "Epoch 25/500\n",
            "8/8 [==============================] - 1s 54ms/step - loss: 7.9870 - mae: 8.4731 - val_loss: 6.6006 - val_mae: 7.0809\n",
            "Epoch 26/500\n",
            "8/8 [==============================] - 1s 55ms/step - loss: 7.2236 - mae: 7.7089 - val_loss: 6.4163 - val_mae: 6.8927\n",
            "Epoch 27/500\n",
            "8/8 [==============================] - 1s 80ms/step - loss: 6.3995 - mae: 6.8805 - val_loss: 5.8378 - val_mae: 6.3248\n",
            "Epoch 28/500\n",
            "8/8 [==============================] - 1s 56ms/step - loss: 7.5184 - mae: 8.0026 - val_loss: 5.6763 - val_mae: 6.1615\n",
            "Epoch 29/500\n",
            "8/8 [==============================] - 1s 54ms/step - loss: 6.7056 - mae: 7.1849 - val_loss: 5.6037 - val_mae: 6.0875\n",
            "Epoch 30/500\n",
            "8/8 [==============================] - 1s 53ms/step - loss: 7.7893 - mae: 8.2710 - val_loss: 8.3008 - val_mae: 8.7923\n",
            "Epoch 31/500\n",
            "8/8 [==============================] - 1s 56ms/step - loss: 6.9684 - mae: 7.4428 - val_loss: 6.3720 - val_mae: 6.8495\n",
            "Epoch 32/500\n",
            "8/8 [==============================] - 1s 54ms/step - loss: 5.9809 - mae: 6.4558 - val_loss: 5.2598 - val_mae: 5.7392\n",
            "Epoch 33/500\n",
            "8/8 [==============================] - 1s 56ms/step - loss: 6.2069 - mae: 6.6903 - val_loss: 5.2490 - val_mae: 5.7277\n",
            "Epoch 34/500\n",
            "8/8 [==============================] - 0s 54ms/step - loss: 6.5351 - mae: 7.0160 - val_loss: 5.4384 - val_mae: 5.9174\n",
            "Epoch 35/500\n",
            "8/8 [==============================] - 1s 57ms/step - loss: 6.3105 - mae: 6.7854 - val_loss: 5.3990 - val_mae: 5.8759\n",
            "Epoch 36/500\n",
            "8/8 [==============================] - 1s 58ms/step - loss: 6.2219 - mae: 6.6993 - val_loss: 5.3508 - val_mae: 5.8273\n",
            "Epoch 37/500\n",
            "8/8 [==============================] - 1s 57ms/step - loss: 6.0187 - mae: 6.4965 - val_loss: 5.0254 - val_mae: 5.5085\n",
            "INFO:tensorflow:Assets written to: my_checkpoint/assets\n",
            "Epoch 38/500\n",
            "8/8 [==============================] - 1s 56ms/step - loss: 6.3096 - mae: 6.7871 - val_loss: 4.9862 - val_mae: 5.4679\n",
            "INFO:tensorflow:Assets written to: my_checkpoint/assets\n",
            "Epoch 39/500\n",
            "8/8 [==============================] - 1s 102ms/step - loss: 5.8458 - mae: 6.3219 - val_loss: 5.0001 - val_mae: 5.4845\n",
            "Epoch 40/500\n",
            "8/8 [==============================] - 1s 98ms/step - loss: 6.3385 - mae: 6.8152 - val_loss: 5.5823 - val_mae: 6.0634\n",
            "Epoch 41/500\n",
            "8/8 [==============================] - 1s 100ms/step - loss: 6.2012 - mae: 6.6820 - val_loss: 6.4419 - val_mae: 6.9247\n",
            "Epoch 42/500\n",
            "8/8 [==============================] - 1s 99ms/step - loss: 5.8561 - mae: 6.3331 - val_loss: 5.0355 - val_mae: 5.5097\n",
            "Epoch 43/500\n",
            "8/8 [==============================] - 1s 99ms/step - loss: 6.4238 - mae: 6.8981 - val_loss: 5.0035 - val_mae: 5.4783\n",
            "Epoch 44/500\n",
            "8/8 [==============================] - 1s 97ms/step - loss: 5.9092 - mae: 6.3855 - val_loss: 4.9765 - val_mae: 5.4604\n",
            "INFO:tensorflow:Assets written to: my_checkpoint/assets\n",
            "Epoch 45/500\n",
            "8/8 [==============================] - 1s 56ms/step - loss: 6.3966 - mae: 6.8761 - val_loss: 4.9839 - val_mae: 5.4653\n",
            "Epoch 46/500\n",
            "8/8 [==============================] - 1s 57ms/step - loss: 5.9256 - mae: 6.4015 - val_loss: 5.1971 - val_mae: 5.6715\n",
            "Epoch 47/500\n",
            "8/8 [==============================] - 1s 57ms/step - loss: 6.9021 - mae: 7.3880 - val_loss: 6.7113 - val_mae: 7.1967\n",
            "Epoch 48/500\n",
            "8/8 [==============================] - 1s 56ms/step - loss: 7.1706 - mae: 7.6569 - val_loss: 10.5735 - val_mae: 11.0683\n",
            "Epoch 49/500\n",
            "8/8 [==============================] - 1s 55ms/step - loss: 6.8314 - mae: 7.3149 - val_loss: 6.1742 - val_mae: 6.6535\n",
            "Epoch 50/500\n",
            "8/8 [==============================] - 1s 56ms/step - loss: 6.4263 - mae: 6.9080 - val_loss: 5.0918 - val_mae: 5.5722\n",
            "Epoch 51/500\n",
            "8/8 [==============================] - 1s 56ms/step - loss: 6.9576 - mae: 7.4440 - val_loss: 5.2914 - val_mae: 5.7696\n",
            "Epoch 52/500\n",
            "8/8 [==============================] - 1s 55ms/step - loss: 6.7952 - mae: 7.2811 - val_loss: 5.8080 - val_mae: 6.2870\n",
            "Epoch 53/500\n",
            "8/8 [==============================] - 1s 56ms/step - loss: 6.3027 - mae: 6.7841 - val_loss: 9.4446 - val_mae: 9.9405\n",
            "Epoch 54/500\n",
            "8/8 [==============================] - 1s 58ms/step - loss: 6.6878 - mae: 7.1755 - val_loss: 5.1423 - val_mae: 5.6190\n",
            "Epoch 55/500\n",
            "8/8 [==============================] - 1s 56ms/step - loss: 6.8277 - mae: 7.3065 - val_loss: 5.7710 - val_mae: 6.2558\n",
            "Epoch 56/500\n",
            "8/8 [==============================] - 1s 56ms/step - loss: 6.8249 - mae: 7.3119 - val_loss: 5.7374 - val_mae: 6.2175\n",
            "Epoch 57/500\n",
            "8/8 [==============================] - 1s 56ms/step - loss: 5.7538 - mae: 6.2322 - val_loss: 5.1172 - val_mae: 5.5917\n",
            "Epoch 58/500\n",
            "8/8 [==============================] - 1s 57ms/step - loss: 5.9094 - mae: 6.3853 - val_loss: 7.4312 - val_mae: 7.9162\n",
            "Epoch 59/500\n",
            "8/8 [==============================] - 1s 57ms/step - loss: 6.0685 - mae: 6.5463 - val_loss: 6.6450 - val_mae: 7.1293\n",
            "Epoch 60/500\n",
            "8/8 [==============================] - 1s 56ms/step - loss: 5.8397 - mae: 6.3166 - val_loss: 5.5807 - val_mae: 6.0649\n",
            "Epoch 61/500\n",
            "8/8 [==============================] - 1s 58ms/step - loss: 5.5744 - mae: 6.0549 - val_loss: 5.1648 - val_mae: 5.6429\n",
            "Epoch 62/500\n",
            "8/8 [==============================] - 1s 55ms/step - loss: 5.6225 - mae: 6.1072 - val_loss: 6.7675 - val_mae: 7.2549\n",
            "Epoch 63/500\n",
            "8/8 [==============================] - 1s 56ms/step - loss: 6.0037 - mae: 6.4846 - val_loss: 5.5542 - val_mae: 6.0376\n",
            "Epoch 64/500\n",
            "8/8 [==============================] - 1s 58ms/step - loss: 5.5427 - mae: 6.0220 - val_loss: 5.3563 - val_mae: 5.8395\n",
            "Epoch 65/500\n",
            "8/8 [==============================] - 1s 58ms/step - loss: 6.2709 - mae: 6.7540 - val_loss: 5.0565 - val_mae: 5.5311\n",
            "Epoch 66/500\n",
            "8/8 [==============================] - 1s 62ms/step - loss: 5.7070 - mae: 6.1900 - val_loss: 6.1686 - val_mae: 6.6491\n",
            "Epoch 67/500\n",
            "8/8 [==============================] - 1s 58ms/step - loss: 5.2395 - mae: 5.7202 - val_loss: 4.9655 - val_mae: 5.4472\n",
            "INFO:tensorflow:Assets written to: my_checkpoint/assets\n",
            "Epoch 68/500\n",
            "8/8 [==============================] - 1s 57ms/step - loss: 5.8211 - mae: 6.2974 - val_loss: 5.0739 - val_mae: 5.5519\n",
            "Epoch 69/500\n",
            "8/8 [==============================] - 1s 57ms/step - loss: 5.7887 - mae: 6.2712 - val_loss: 5.3736 - val_mae: 5.8563\n",
            "Epoch 70/500\n",
            "8/8 [==============================] - 1s 57ms/step - loss: 6.7044 - mae: 7.1857 - val_loss: 8.4085 - val_mae: 8.8993\n",
            "Epoch 71/500\n",
            "8/8 [==============================] - 1s 56ms/step - loss: 6.5855 - mae: 7.0663 - val_loss: 5.0425 - val_mae: 5.5215\n",
            "Epoch 72/500\n",
            "8/8 [==============================] - 1s 57ms/step - loss: 5.4997 - mae: 5.9752 - val_loss: 5.0605 - val_mae: 5.5426\n",
            "Epoch 73/500\n",
            "8/8 [==============================] - 1s 59ms/step - loss: 5.6985 - mae: 6.1740 - val_loss: 5.1049 - val_mae: 5.5825\n",
            "Epoch 74/500\n",
            "8/8 [==============================] - 1s 56ms/step - loss: 5.6697 - mae: 6.1487 - val_loss: 7.8166 - val_mae: 8.3057\n",
            "Epoch 75/500\n",
            "8/8 [==============================] - 1s 58ms/step - loss: 5.9222 - mae: 6.4008 - val_loss: 6.9279 - val_mae: 7.4135\n",
            "Epoch 76/500\n",
            "8/8 [==============================] - 1s 59ms/step - loss: 6.0273 - mae: 6.5078 - val_loss: 5.3405 - val_mae: 5.8188\n",
            "Epoch 77/500\n",
            "8/8 [==============================] - 1s 55ms/step - loss: 5.4288 - mae: 5.9082 - val_loss: 7.4991 - val_mae: 7.9860\n",
            "Epoch 78/500\n",
            "8/8 [==============================] - 1s 57ms/step - loss: 5.9634 - mae: 6.4471 - val_loss: 5.0672 - val_mae: 5.5434\n",
            "Epoch 79/500\n",
            "8/8 [==============================] - 1s 55ms/step - loss: 6.6067 - mae: 7.0936 - val_loss: 5.0748 - val_mae: 5.5574\n",
            "Epoch 80/500\n",
            "8/8 [==============================] - 1s 56ms/step - loss: 5.7694 - mae: 6.2497 - val_loss: 7.9715 - val_mae: 8.4603\n",
            "Epoch 81/500\n",
            "8/8 [==============================] - 1s 58ms/step - loss: 5.4182 - mae: 5.8980 - val_loss: 6.9996 - val_mae: 7.4858\n",
            "Epoch 82/500\n",
            "8/8 [==============================] - 1s 56ms/step - loss: 5.4457 - mae: 5.9278 - val_loss: 6.3980 - val_mae: 6.8800\n",
            "Epoch 83/500\n",
            "8/8 [==============================] - 1s 56ms/step - loss: 5.0932 - mae: 5.5731 - val_loss: 5.0611 - val_mae: 5.5427\n",
            "Epoch 84/500\n",
            "8/8 [==============================] - 1s 55ms/step - loss: 5.0782 - mae: 5.5599 - val_loss: 5.0672 - val_mae: 5.5486\n",
            "Epoch 85/500\n",
            "8/8 [==============================] - 1s 58ms/step - loss: 4.9557 - mae: 5.4275 - val_loss: 5.1983 - val_mae: 5.6754\n",
            "Epoch 86/500\n",
            "8/8 [==============================] - 1s 57ms/step - loss: 5.4155 - mae: 5.8945 - val_loss: 4.9879 - val_mae: 5.4746\n",
            "Epoch 87/500\n",
            "8/8 [==============================] - 1s 58ms/step - loss: 4.7797 - mae: 5.2602 - val_loss: 4.9456 - val_mae: 5.4310\n",
            "INFO:tensorflow:Assets written to: my_checkpoint/assets\n",
            "Epoch 88/500\n",
            "8/8 [==============================] - 1s 57ms/step - loss: 5.6091 - mae: 6.0906 - val_loss: 4.9810 - val_mae: 5.4567\n",
            "Epoch 89/500\n",
            "8/8 [==============================] - 1s 58ms/step - loss: 5.6299 - mae: 6.1105 - val_loss: 5.5546 - val_mae: 6.0348\n",
            "Epoch 90/500\n",
            "8/8 [==============================] - 1s 58ms/step - loss: 5.0533 - mae: 5.5276 - val_loss: 5.2880 - val_mae: 5.7700\n",
            "Epoch 91/500\n",
            "8/8 [==============================] - 1s 58ms/step - loss: 4.7976 - mae: 5.2723 - val_loss: 6.5972 - val_mae: 7.0798\n",
            "Epoch 92/500\n",
            "8/8 [==============================] - 1s 57ms/step - loss: 5.0949 - mae: 5.5696 - val_loss: 5.5571 - val_mae: 6.0364\n",
            "Epoch 93/500\n",
            "8/8 [==============================] - 1s 56ms/step - loss: 5.1358 - mae: 5.6077 - val_loss: 5.1258 - val_mae: 5.6041\n",
            "Epoch 94/500\n",
            "8/8 [==============================] - 1s 60ms/step - loss: 5.1443 - mae: 5.6248 - val_loss: 8.8055 - val_mae: 9.2981\n",
            "Epoch 95/500\n",
            "8/8 [==============================] - 1s 56ms/step - loss: 5.9844 - mae: 6.4585 - val_loss: 6.0098 - val_mae: 6.4889\n",
            "Epoch 96/500\n",
            "8/8 [==============================] - 1s 59ms/step - loss: 4.8091 - mae: 5.2818 - val_loss: 5.8050 - val_mae: 6.2818\n",
            "Epoch 97/500\n",
            "8/8 [==============================] - 1s 54ms/step - loss: 5.2149 - mae: 5.6930 - val_loss: 4.9141 - val_mae: 5.3892\n",
            "INFO:tensorflow:Assets written to: my_checkpoint/assets\n",
            "Epoch 98/500\n",
            "8/8 [==============================] - 1s 97ms/step - loss: 5.1728 - mae: 5.6509 - val_loss: 4.9100 - val_mae: 5.3930\n",
            "INFO:tensorflow:Assets written to: my_checkpoint/assets\n",
            "Epoch 99/500\n",
            "8/8 [==============================] - 1s 55ms/step - loss: 5.1510 - mae: 5.6270 - val_loss: 4.9773 - val_mae: 5.4530\n",
            "Epoch 100/500\n",
            "8/8 [==============================] - 1s 54ms/step - loss: 5.0213 - mae: 5.4956 - val_loss: 4.9497 - val_mae: 5.4250\n",
            "Epoch 101/500\n",
            "8/8 [==============================] - 1s 60ms/step - loss: 5.0260 - mae: 5.5033 - val_loss: 5.6018 - val_mae: 6.0795\n",
            "Epoch 102/500\n",
            "8/8 [==============================] - 1s 57ms/step - loss: 4.7838 - mae: 5.2552 - val_loss: 6.4838 - val_mae: 6.9686\n",
            "Epoch 103/500\n",
            "8/8 [==============================] - 1s 61ms/step - loss: 5.2396 - mae: 5.7168 - val_loss: 5.9399 - val_mae: 6.4176\n",
            "Epoch 104/500\n",
            "8/8 [==============================] - 1s 56ms/step - loss: 5.0047 - mae: 5.4815 - val_loss: 5.7729 - val_mae: 6.2630\n",
            "Epoch 105/500\n",
            "8/8 [==============================] - 1s 60ms/step - loss: 5.5193 - mae: 5.9935 - val_loss: 4.9261 - val_mae: 5.4131\n",
            "Epoch 106/500\n",
            "8/8 [==============================] - 1s 56ms/step - loss: 5.1647 - mae: 5.6369 - val_loss: 4.9417 - val_mae: 5.4202\n",
            "Epoch 107/500\n",
            "8/8 [==============================] - 1s 57ms/step - loss: 4.8660 - mae: 5.3414 - val_loss: 6.7642 - val_mae: 7.2508\n",
            "Epoch 108/500\n",
            "8/8 [==============================] - 1s 59ms/step - loss: 5.0434 - mae: 5.5178 - val_loss: 5.0794 - val_mae: 5.5598\n",
            "Epoch 109/500\n",
            "8/8 [==============================] - 1s 56ms/step - loss: 4.6689 - mae: 5.1466 - val_loss: 5.9341 - val_mae: 6.4116\n",
            "Epoch 110/500\n",
            "8/8 [==============================] - 1s 59ms/step - loss: 4.7215 - mae: 5.1978 - val_loss: 4.9018 - val_mae: 5.3773\n",
            "INFO:tensorflow:Assets written to: my_checkpoint/assets\n",
            "Epoch 111/500\n",
            "8/8 [==============================] - 1s 59ms/step - loss: 4.8082 - mae: 5.2824 - val_loss: 5.3269 - val_mae: 5.8103\n",
            "Epoch 112/500\n",
            "8/8 [==============================] - 1s 58ms/step - loss: 5.0607 - mae: 5.5372 - val_loss: 5.1846 - val_mae: 5.6698\n",
            "Epoch 113/500\n",
            "8/8 [==============================] - 1s 58ms/step - loss: 4.6853 - mae: 5.1581 - val_loss: 5.0071 - val_mae: 5.4804\n",
            "Epoch 114/500\n",
            "8/8 [==============================] - 1s 60ms/step - loss: 5.0033 - mae: 5.4828 - val_loss: 5.4818 - val_mae: 5.9590\n",
            "Epoch 115/500\n",
            "8/8 [==============================] - 1s 57ms/step - loss: 5.1481 - mae: 5.6255 - val_loss: 8.4177 - val_mae: 8.9080\n",
            "Epoch 116/500\n",
            "8/8 [==============================] - 1s 59ms/step - loss: 5.9493 - mae: 6.4325 - val_loss: 4.9970 - val_mae: 5.4694\n",
            "Epoch 117/500\n",
            "8/8 [==============================] - 1s 56ms/step - loss: 4.9207 - mae: 5.3977 - val_loss: 5.8994 - val_mae: 6.3906\n",
            "Epoch 118/500\n",
            "8/8 [==============================] - 1s 57ms/step - loss: 5.6579 - mae: 6.1375 - val_loss: 5.9524 - val_mae: 6.4276\n",
            "Epoch 119/500\n",
            "8/8 [==============================] - 1s 56ms/step - loss: 5.2627 - mae: 5.7429 - val_loss: 6.3334 - val_mae: 6.8157\n",
            "Epoch 120/500\n",
            "8/8 [==============================] - 1s 58ms/step - loss: 5.2784 - mae: 5.7557 - val_loss: 4.9825 - val_mae: 5.4659\n",
            "Epoch 121/500\n",
            "8/8 [==============================] - 1s 56ms/step - loss: 5.0233 - mae: 5.4978 - val_loss: 5.5421 - val_mae: 6.0271\n",
            "Epoch 122/500\n",
            "8/8 [==============================] - 1s 59ms/step - loss: 5.8363 - mae: 6.3213 - val_loss: 5.3487 - val_mae: 5.8318\n",
            "Epoch 123/500\n",
            "8/8 [==============================] - 1s 55ms/step - loss: 5.0828 - mae: 5.5629 - val_loss: 5.4108 - val_mae: 5.8933\n",
            "Epoch 124/500\n",
            "8/8 [==============================] - 1s 56ms/step - loss: 4.8931 - mae: 5.3752 - val_loss: 4.9513 - val_mae: 5.4382\n",
            "Epoch 125/500\n",
            "8/8 [==============================] - 1s 58ms/step - loss: 5.0624 - mae: 5.5448 - val_loss: 5.1421 - val_mae: 5.6220\n",
            "Epoch 126/500\n",
            "8/8 [==============================] - 1s 58ms/step - loss: 4.8069 - mae: 5.2843 - val_loss: 5.1614 - val_mae: 5.6440\n",
            "Epoch 127/500\n",
            "8/8 [==============================] - 1s 56ms/step - loss: 4.6419 - mae: 5.1229 - val_loss: 4.9283 - val_mae: 5.4133\n",
            "Epoch 128/500\n",
            "8/8 [==============================] - 1s 57ms/step - loss: 4.7911 - mae: 5.2705 - val_loss: 5.3663 - val_mae: 5.8474\n",
            "Epoch 129/500\n",
            "8/8 [==============================] - 1s 57ms/step - loss: 4.7912 - mae: 5.2630 - val_loss: 6.5756 - val_mae: 7.0579\n",
            "Epoch 130/500\n",
            "8/8 [==============================] - 1s 58ms/step - loss: 4.7579 - mae: 5.2332 - val_loss: 4.9522 - val_mae: 5.4268\n",
            "Epoch 131/500\n",
            "8/8 [==============================] - 1s 57ms/step - loss: 4.8433 - mae: 5.3144 - val_loss: 5.7696 - val_mae: 6.2572\n",
            "Epoch 132/500\n",
            "8/8 [==============================] - 1s 58ms/step - loss: 5.7063 - mae: 6.1858 - val_loss: 5.9902 - val_mae: 6.4686\n",
            "Epoch 133/500\n",
            "8/8 [==============================] - 1s 57ms/step - loss: 4.8860 - mae: 5.3630 - val_loss: 6.4223 - val_mae: 6.9042\n",
            "Epoch 134/500\n",
            "8/8 [==============================] - 1s 56ms/step - loss: 5.0599 - mae: 5.5346 - val_loss: 5.4585 - val_mae: 5.9372\n",
            "Epoch 135/500\n",
            "8/8 [==============================] - 1s 56ms/step - loss: 4.7087 - mae: 5.1861 - val_loss: 5.6241 - val_mae: 6.1015\n",
            "Epoch 136/500\n",
            "8/8 [==============================] - 1s 58ms/step - loss: 4.5761 - mae: 5.0475 - val_loss: 4.9365 - val_mae: 5.4245\n",
            "Epoch 137/500\n",
            "8/8 [==============================] - 1s 55ms/step - loss: 4.9100 - mae: 5.3863 - val_loss: 5.0082 - val_mae: 5.4845\n",
            "Epoch 138/500\n",
            "8/8 [==============================] - 1s 55ms/step - loss: 4.6752 - mae: 5.1509 - val_loss: 5.0348 - val_mae: 5.5088\n",
            "Epoch 139/500\n",
            "8/8 [==============================] - 1s 84ms/step - loss: 4.5024 - mae: 4.9710 - val_loss: 4.9584 - val_mae: 5.4356\n",
            "Epoch 140/500\n",
            "8/8 [==============================] - 1s 55ms/step - loss: 5.0212 - mae: 5.5020 - val_loss: 4.9829 - val_mae: 5.4644\n",
            "Epoch 141/500\n",
            "8/8 [==============================] - 1s 55ms/step - loss: 4.7716 - mae: 5.2463 - val_loss: 5.3064 - val_mae: 5.7884\n",
            "Epoch 142/500\n",
            "8/8 [==============================] - 1s 57ms/step - loss: 4.3120 - mae: 4.7847 - val_loss: 6.4503 - val_mae: 6.9323\n",
            "Epoch 143/500\n",
            "8/8 [==============================] - 1s 56ms/step - loss: 4.8451 - mae: 5.3172 - val_loss: 6.7923 - val_mae: 7.2773\n",
            "Epoch 144/500\n",
            "8/8 [==============================] - 1s 56ms/step - loss: 4.9567 - mae: 5.4367 - val_loss: 4.9931 - val_mae: 5.4676\n",
            "Epoch 145/500\n",
            "8/8 [==============================] - 1s 58ms/step - loss: 4.4716 - mae: 4.9422 - val_loss: 5.0017 - val_mae: 5.4770\n",
            "Epoch 146/500\n",
            "8/8 [==============================] - 1s 57ms/step - loss: 4.5023 - mae: 4.9770 - val_loss: 5.0172 - val_mae: 5.4885\n",
            "Epoch 147/500\n",
            "8/8 [==============================] - 1s 56ms/step - loss: 4.3418 - mae: 4.8135 - val_loss: 6.6479 - val_mae: 7.1297\n",
            "Epoch 148/500\n",
            "8/8 [==============================] - 1s 56ms/step - loss: 4.6677 - mae: 5.1421 - val_loss: 5.6387 - val_mae: 6.1176\n",
            "Epoch 149/500\n",
            "8/8 [==============================] - 1s 57ms/step - loss: 4.5370 - mae: 5.0106 - val_loss: 4.9823 - val_mae: 5.4560\n",
            "Epoch 150/500\n",
            "8/8 [==============================] - 1s 56ms/step - loss: 4.6964 - mae: 5.1744 - val_loss: 6.0008 - val_mae: 6.4782\n",
            "Epoch 151/500\n",
            "8/8 [==============================] - 1s 57ms/step - loss: 5.2727 - mae: 5.7524 - val_loss: 7.1999 - val_mae: 7.6906\n",
            "Epoch 152/500\n",
            "8/8 [==============================] - 1s 58ms/step - loss: 5.4329 - mae: 5.9130 - val_loss: 7.2074 - val_mae: 7.6980\n",
            "Epoch 153/500\n",
            "8/8 [==============================] - 1s 57ms/step - loss: 5.3598 - mae: 5.8435 - val_loss: 5.4814 - val_mae: 5.9606\n",
            "Epoch 154/500\n",
            "8/8 [==============================] - 1s 58ms/step - loss: 4.4452 - mae: 4.9218 - val_loss: 5.0336 - val_mae: 5.5064\n",
            "Epoch 155/500\n",
            "8/8 [==============================] - 1s 57ms/step - loss: 4.7862 - mae: 5.2625 - val_loss: 5.1808 - val_mae: 5.6616\n",
            "Epoch 156/500\n",
            "8/8 [==============================] - 1s 57ms/step - loss: 4.6403 - mae: 5.1203 - val_loss: 6.2517 - val_mae: 6.7315\n",
            "Epoch 157/500\n",
            "8/8 [==============================] - 1s 55ms/step - loss: 4.7724 - mae: 5.2473 - val_loss: 5.7429 - val_mae: 6.2191\n",
            "Epoch 158/500\n",
            "8/8 [==============================] - 1s 54ms/step - loss: 4.7875 - mae: 5.2636 - val_loss: 5.5492 - val_mae: 6.0290\n",
            "Epoch 159/500\n",
            "8/8 [==============================] - 1s 57ms/step - loss: 4.6256 - mae: 5.1030 - val_loss: 5.9668 - val_mae: 6.4452\n",
            "Epoch 160/500\n",
            "8/8 [==============================] - 1s 57ms/step - loss: 4.5951 - mae: 5.0661 - val_loss: 5.8042 - val_mae: 6.2810\n"
          ],
          "name": "stdout"
        },
        {
          "output_type": "execute_result",
          "data": {
            "text/plain": [
              "<tensorflow.python.keras.callbacks.History at 0x7f9e6724fd68>"
            ]
          },
          "metadata": {
            "tags": []
          },
          "execution_count": 7
        }
      ]
    },
    {
      "cell_type": "code",
      "metadata": {
        "id": "4KuPtKFe8OI0"
      },
      "source": [
        "model = keras.models.load_model(\"my_checkpoint\")"
      ],
      "execution_count": 8,
      "outputs": []
    },
    {
      "cell_type": "code",
      "metadata": {
        "id": "cxq09qOg8OI1"
      },
      "source": [
        "rnn_forecast = model_forecast(\n",
        "    model,\n",
        "    series[split_time - window_size:-1],\n",
        "    window_size)[:, 0]"
      ],
      "execution_count": 9,
      "outputs": []
    },
    {
      "cell_type": "code",
      "metadata": {
        "id": "PkC_JssS8OI2",
        "outputId": "3b263f43-d111-4970-bd7e-156c3115cc61",
        "colab": {
          "base_uri": "https://localhost:8080/",
          "height": 388
        }
      },
      "source": [
        "plt.figure(figsize=(10, 6))\n",
        "plot_series(time_valid, x_valid)\n",
        "plot_series(time_valid, rnn_forecast)"
      ],
      "execution_count": 10,
      "outputs": [
        {
          "output_type": "display_data",
          "data": {
            "image/png": "[encoded data removed]",
            "text/plain": [
              "<Figure size 720x432 with 1 Axes>"
            ]
          },
          "metadata": {
            "tags": [],
            "needs_background": "light"
          }
        }
      ]
    },
    {
      "cell_type": "code",
      "metadata": {
        "id": "1mwfgEK08OI3",
        "outputId": "d8100642-e799-49dd-8aee-119d0a461bdf",
        "colab": {
          "base_uri": "https://localhost:8080/"
        }
      },
      "source": [
        "keras.metrics.mean_absolute_error(x_valid, rnn_forecast).numpy()"
      ],
      "execution_count": 11,
      "outputs": [
        {
          "output_type": "execute_result",
          "data": {
            "text/plain": [
              "5.328219"
            ]
          },
          "metadata": {
            "tags": []
          },
          "execution_count": 11
        }
      ]
    },
    {
      "cell_type": "markdown",
      "metadata": {
        "id": "KNG7s8jt8OI4"
      },
      "source": [
        "## Sequence-to-Sequence Forecasting"
      ]
    },
    {
      "cell_type": "code",
      "metadata": {
        "id": "bsKGxfiE8OI4"
      },
      "source": [
        "def seq2seq_window_dataset(series, window_size, batch_size=32,\n",
        "                           shuffle_buffer=1000):\n",
        "    series = tf.expand_dims(series, axis=-1)\n",
        "    ds = tf.data.Dataset.from_tensor_slices(series)\n",
        "    ds = ds.window(window_size + 1, shift=1, drop_remainder=True)\n",
        "    ds = ds.flat_map(lambda w: w.batch(window_size + 1))\n",
        "    ds = ds.shuffle(shuffle_buffer)\n",
        "    ds = ds.map(lambda w: (w[:-1], w[1:]))\n",
        "    return ds.batch(batch_size).prefetch(1)"
      ],
      "execution_count": 12,
      "outputs": []
    },
    {
      "cell_type": "code",
      "metadata": {
        "id": "5Nk2C7WP8OI5",
        "outputId": "fed6ed27-7a4d-432d-80e5-36fd1b31b1ae",
        "colab": {
          "base_uri": "https://localhost:8080/"
        }
      },
      "source": [
        "for X_batch, Y_batch in seq2seq_window_dataset(tf.range(10), 3,\n",
        "                                               batch_size=1):\n",
        "    print(\"X:\", X_batch.numpy())\n",
        "    print(\"Y:\", Y_batch.numpy())"
      ],
      "execution_count": 13,
      "outputs": [
        {
          "output_type": "stream",
          "text": [
            "X: [[[1]\n",
            "  [2]\n",
            "  [3]]]\n",
            "Y: [[[2]\n",
            "  [3]\n",
            "  [4]]]\n",
            "X: [[[2]\n",
            "  [3]\n",
            "  [4]]]\n",
            "Y: [[[3]\n",
            "  [4]\n",
            "  [5]]]\n",
            "X: [[[4]\n",
            "  [5]\n",
            "  [6]]]\n",
            "Y: [[[5]\n",
            "  [6]\n",
            "  [7]]]\n",
            "X: [[[3]\n",
            "  [4]\n",
            "  [5]]]\n",
            "Y: [[[4]\n",
            "  [5]\n",
            "  [6]]]\n",
            "X: [[[5]\n",
            "  [6]\n",
            "  [7]]]\n",
            "Y: [[[6]\n",
            "  [7]\n",
            "  [8]]]\n",
            "X: [[[6]\n",
            "  [7]\n",
            "  [8]]]\n",
            "Y: [[[7]\n",
            "  [8]\n",
            "  [9]]]\n",
            "X: [[[0]\n",
            "  [1]\n",
            "  [2]]]\n",
            "Y: [[[1]\n",
            "  [2]\n",
            "  [3]]]\n"
          ],
          "name": "stdout"
        }
      ]
    },
    {
      "cell_type": "code",
      "metadata": {
        "id": "4JSc-Btk8OI7",
        "outputId": "c0d6a384-654b-4b6d-c69d-0fa6a7d0cb99",
        "colab": {
          "base_uri": "https://localhost:8080/"
        }
      },
      "source": [
        "keras.backend.clear_session()\n",
        "tf.random.set_seed(42)\n",
        "np.random.seed(42)\n",
        "\n",
        "window_size = 30\n",
        "train_set = seq2seq_window_dataset(x_train, window_size,\n",
        "                                   batch_size=128)\n",
        "\n",
        "model = keras.models.Sequential([\n",
        "  keras.layers.SimpleRNN(100, return_sequences=True,\n",
        "                         input_shape=[None, 1]),\n",
        "  keras.layers.SimpleRNN(100, return_sequences=True),\n",
        "  keras.layers.Dense(1),\n",
        "  keras.layers.Lambda(lambda x: x * 200)\n",
        "])\n",
        "lr_schedule = keras.callbacks.LearningRateScheduler(\n",
        "    lambda epoch: 1e-7 * 10**(epoch / 30))\n",
        "optimizer = keras.optimizers.SGD(lr=1e-7, momentum=0.9)\n",
        "model.compile(loss=keras.losses.Huber(),\n",
        "              optimizer=optimizer,\n",
        "              metrics=[\"mae\"])\n",
        "history = model.fit(train_set, epochs=100, callbacks=[lr_schedule])"
      ],
      "execution_count": 14,
      "outputs": [
        {
          "output_type": "stream",
          "text": [
            "Epoch 1/100\n",
            "8/8 [==============================] - 2s 36ms/step - loss: 57.8163 - mae: 58.3160\n",
            "Epoch 2/100\n",
            "8/8 [==============================] - 0s 36ms/step - loss: 24.4221 - mae: 24.9174\n",
            "Epoch 3/100\n",
            "8/8 [==============================] - 0s 40ms/step - loss: 26.4628 - mae: 26.9590\n",
            "Epoch 4/100\n",
            "8/8 [==============================] - 0s 37ms/step - loss: 21.9066 - mae: 22.4000\n",
            "Epoch 5/100\n",
            "8/8 [==============================] - 0s 36ms/step - loss: 19.9172 - mae: 20.4086\n",
            "Epoch 6/100\n",
            "8/8 [==============================] - 0s 36ms/step - loss: 18.7127 - mae: 19.2032\n",
            "Epoch 7/100\n",
            "8/8 [==============================] - 0s 35ms/step - loss: 18.4775 - mae: 18.9660\n",
            "Epoch 8/100\n",
            "8/8 [==============================] - 0s 36ms/step - loss: 18.1116 - mae: 18.6009\n",
            "Epoch 9/100\n",
            "8/8 [==============================] - 0s 37ms/step - loss: 17.6015 - mae: 18.0906\n",
            "Epoch 10/100\n",
            "8/8 [==============================] - 0s 36ms/step - loss: 16.9587 - mae: 17.4472\n",
            "Epoch 11/100\n",
            "8/8 [==============================] - 0s 36ms/step - loss: 16.4613 - mae: 16.9508\n",
            "Epoch 12/100\n",
            "8/8 [==============================] - 0s 36ms/step - loss: 16.5524 - mae: 17.0407\n",
            "Epoch 13/100\n",
            "8/8 [==============================] - 0s 37ms/step - loss: 16.3162 - mae: 16.8038\n",
            "Epoch 14/100\n",
            "8/8 [==============================] - 0s 37ms/step - loss: 15.6510 - mae: 16.1383\n",
            "Epoch 15/100\n",
            "8/8 [==============================] - 0s 36ms/step - loss: 15.2730 - mae: 15.7604\n",
            "Epoch 16/100\n",
            "8/8 [==============================] - 0s 35ms/step - loss: 15.4854 - mae: 15.9732\n",
            "Epoch 17/100\n",
            "8/8 [==============================] - 0s 35ms/step - loss: 14.5999 - mae: 15.0884\n",
            "Epoch 18/100\n",
            "8/8 [==============================] - 0s 37ms/step - loss: 13.9551 - mae: 14.4427\n",
            "Epoch 19/100\n",
            "8/8 [==============================] - 0s 36ms/step - loss: 13.5905 - mae: 14.0769\n",
            "Epoch 20/100\n",
            "8/8 [==============================] - 0s 36ms/step - loss: 13.4175 - mae: 13.9042\n",
            "Epoch 21/100\n",
            "8/8 [==============================] - 0s 35ms/step - loss: 13.5728 - mae: 14.0589\n",
            "Epoch 22/100\n",
            "8/8 [==============================] - 0s 36ms/step - loss: 12.3837 - mae: 12.8691\n",
            "Epoch 23/100\n",
            "8/8 [==============================] - 0s 35ms/step - loss: 12.3159 - mae: 12.8017\n",
            "Epoch 24/100\n",
            "8/8 [==============================] - 0s 36ms/step - loss: 11.8320 - mae: 12.3162\n",
            "Epoch 25/100\n",
            "8/8 [==============================] - 0s 36ms/step - loss: 11.1849 - mae: 11.6682\n",
            "Epoch 26/100\n",
            "8/8 [==============================] - 0s 36ms/step - loss: 11.4006 - mae: 11.8840\n",
            "Epoch 27/100\n",
            "8/8 [==============================] - 0s 36ms/step - loss: 10.1241 - mae: 10.6083\n",
            "Epoch 28/100\n",
            "8/8 [==============================] - 0s 37ms/step - loss: 9.8723 - mae: 10.3569\n",
            "Epoch 29/100\n",
            "8/8 [==============================] - 0s 36ms/step - loss: 10.0903 - mae: 10.5738\n",
            "Epoch 30/100\n",
            "8/8 [==============================] - 0s 35ms/step - loss: 9.9211 - mae: 10.4052\n",
            "Epoch 31/100\n",
            "8/8 [==============================] - 0s 40ms/step - loss: 9.9366 - mae: 10.4205\n",
            "Epoch 32/100\n",
            "8/8 [==============================] - 0s 35ms/step - loss: 9.2275 - mae: 9.7106\n",
            "Epoch 33/100\n",
            "8/8 [==============================] - 0s 37ms/step - loss: 8.7624 - mae: 9.2450\n",
            "Epoch 34/100\n",
            "8/8 [==============================] - 0s 37ms/step - loss: 8.8093 - mae: 9.2914\n",
            "Epoch 35/100\n",
            "8/8 [==============================] - 0s 35ms/step - loss: 8.7280 - mae: 9.2098\n",
            "Epoch 36/100\n",
            "8/8 [==============================] - 0s 36ms/step - loss: 8.1143 - mae: 8.5966\n",
            "Epoch 37/100\n",
            "8/8 [==============================] - 0s 36ms/step - loss: 8.0805 - mae: 8.5612\n",
            "Epoch 38/100\n",
            "8/8 [==============================] - 0s 37ms/step - loss: 8.0097 - mae: 8.4916\n",
            "Epoch 39/100\n",
            "8/8 [==============================] - 0s 38ms/step - loss: 8.3733 - mae: 8.8543\n",
            "Epoch 40/100\n",
            "8/8 [==============================] - 0s 37ms/step - loss: 8.5716 - mae: 9.0559\n",
            "Epoch 41/100\n",
            "8/8 [==============================] - 0s 36ms/step - loss: 8.9419 - mae: 9.4273\n",
            "Epoch 42/100\n",
            "8/8 [==============================] - 0s 35ms/step - loss: 8.1318 - mae: 8.6156\n",
            "Epoch 43/100\n",
            "8/8 [==============================] - 0s 36ms/step - loss: 9.2938 - mae: 9.7813\n",
            "Epoch 44/100\n",
            "8/8 [==============================] - 0s 37ms/step - loss: 10.0395 - mae: 10.5300\n",
            "Epoch 45/100\n",
            "8/8 [==============================] - 0s 35ms/step - loss: 10.1007 - mae: 10.5917\n",
            "Epoch 46/100\n",
            "8/8 [==============================] - 0s 34ms/step - loss: 9.5036 - mae: 9.9924\n",
            "Epoch 47/100\n",
            "8/8 [==============================] - 0s 37ms/step - loss: 10.2716 - mae: 10.7619\n",
            "Epoch 48/100\n",
            "8/8 [==============================] - 0s 37ms/step - loss: 17.1378 - mae: 17.6308\n",
            "Epoch 49/100\n",
            "8/8 [==============================] - 0s 37ms/step - loss: 43.2208 - mae: 43.7201\n",
            "Epoch 50/100\n",
            "8/8 [==============================] - 0s 36ms/step - loss: 57.4802 - mae: 57.9789\n",
            "Epoch 51/100\n",
            "8/8 [==============================] - 0s 37ms/step - loss: 35.9163 - mae: 36.4136\n",
            "Epoch 52/100\n",
            "8/8 [==============================] - 0s 36ms/step - loss: 20.7214 - mae: 21.2167\n",
            "Epoch 53/100\n",
            "8/8 [==============================] - 0s 38ms/step - loss: 15.4523 - mae: 15.9477\n",
            "Epoch 54/100\n",
            "8/8 [==============================] - 0s 36ms/step - loss: 14.4039 - mae: 14.8980\n",
            "Epoch 55/100\n",
            "8/8 [==============================] - 0s 38ms/step - loss: 16.5266 - mae: 17.0229\n",
            "Epoch 56/100\n",
            "8/8 [==============================] - 0s 38ms/step - loss: 15.9390 - mae: 16.4352\n",
            "Epoch 57/100\n",
            "8/8 [==============================] - 0s 36ms/step - loss: 17.7671 - mae: 18.2646\n",
            "Epoch 58/100\n",
            "8/8 [==============================] - 0s 35ms/step - loss: 18.8500 - mae: 19.3475\n",
            "Epoch 59/100\n",
            "8/8 [==============================] - 0s 36ms/step - loss: 19.2097 - mae: 19.7073\n",
            "Epoch 60/100\n",
            "8/8 [==============================] - 0s 37ms/step - loss: 20.0344 - mae: 20.5321\n",
            "Epoch 61/100\n",
            "8/8 [==============================] - 0s 37ms/step - loss: 20.2980 - mae: 20.7948\n",
            "Epoch 62/100\n",
            "8/8 [==============================] - 0s 37ms/step - loss: 19.1631 - mae: 19.6577\n",
            "Epoch 63/100\n",
            "8/8 [==============================] - 0s 36ms/step - loss: 22.0210 - mae: 22.5186\n",
            "Epoch 64/100\n",
            "8/8 [==============================] - 0s 35ms/step - loss: 25.5240 - mae: 26.0227\n",
            "Epoch 65/100\n",
            "8/8 [==============================] - 0s 38ms/step - loss: 27.2446 - mae: 27.7432\n",
            "Epoch 66/100\n",
            "8/8 [==============================] - 0s 37ms/step - loss: 25.2538 - mae: 25.7515\n",
            "Epoch 67/100\n",
            "8/8 [==============================] - 0s 36ms/step - loss: 22.6607 - mae: 23.1556\n",
            "Epoch 68/100\n",
            "8/8 [==============================] - 0s 35ms/step - loss: 28.7734 - mae: 29.2719\n",
            "Epoch 69/100\n",
            "8/8 [==============================] - 0s 36ms/step - loss: 31.3785 - mae: 31.8774\n",
            "Epoch 70/100\n",
            "8/8 [==============================] - 0s 37ms/step - loss: 33.2681 - mae: 33.7665\n",
            "Epoch 71/100\n",
            "8/8 [==============================] - 0s 36ms/step - loss: 30.6172 - mae: 31.1156\n",
            "Epoch 72/100\n",
            "8/8 [==============================] - 0s 37ms/step - loss: 36.6319 - mae: 37.1310\n",
            "Epoch 73/100\n",
            "8/8 [==============================] - 0s 36ms/step - loss: 37.5377 - mae: 38.0370\n",
            "Epoch 74/100\n",
            "8/8 [==============================] - 0s 36ms/step - loss: 39.6313 - mae: 40.1308\n",
            "Epoch 75/100\n",
            "8/8 [==============================] - 0s 37ms/step - loss: 40.7513 - mae: 41.2509\n",
            "Epoch 76/100\n",
            "8/8 [==============================] - 0s 38ms/step - loss: 42.2767 - mae: 42.7760\n",
            "Epoch 77/100\n",
            "8/8 [==============================] - 0s 41ms/step - loss: 43.6180 - mae: 44.1172\n",
            "Epoch 78/100\n",
            "8/8 [==============================] - 0s 37ms/step - loss: 46.1564 - mae: 46.6561\n",
            "Epoch 79/100\n",
            "8/8 [==============================] - 0s 36ms/step - loss: 45.5826 - mae: 46.0824\n",
            "Epoch 80/100\n",
            "8/8 [==============================] - 0s 37ms/step - loss: 46.6121 - mae: 47.1118\n",
            "Epoch 81/100\n",
            "8/8 [==============================] - 0s 37ms/step - loss: 48.8929 - mae: 49.3926\n",
            "Epoch 82/100\n",
            "8/8 [==============================] - 0s 37ms/step - loss: 50.1549 - mae: 50.6546\n",
            "Epoch 83/100\n",
            "8/8 [==============================] - 0s 36ms/step - loss: 50.5541 - mae: 51.0538\n",
            "Epoch 84/100\n",
            "8/8 [==============================] - 0s 36ms/step - loss: 50.6682 - mae: 51.1679\n",
            "Epoch 85/100\n",
            "8/8 [==============================] - 0s 35ms/step - loss: 51.0561 - mae: 51.5558\n",
            "Epoch 86/100\n",
            "8/8 [==============================] - 0s 39ms/step - loss: 49.5061 - mae: 50.0055\n",
            "Epoch 87/100\n",
            "8/8 [==============================] - 0s 38ms/step - loss: 54.8648 - mae: 55.3643\n",
            "Epoch 88/100\n",
            "8/8 [==============================] - 0s 37ms/step - loss: 54.7479 - mae: 55.2476\n",
            "Epoch 89/100\n",
            "8/8 [==============================] - 0s 37ms/step - loss: 58.5401 - mae: 59.0398\n",
            "Epoch 90/100\n",
            "8/8 [==============================] - 0s 36ms/step - loss: 58.8120 - mae: 59.3118\n",
            "Epoch 91/100\n",
            "8/8 [==============================] - 0s 37ms/step - loss: 60.7000 - mae: 61.1998\n",
            "Epoch 92/100\n",
            "8/8 [==============================] - 0s 35ms/step - loss: 66.9250 - mae: 67.4243\n",
            "Epoch 93/100\n",
            "8/8 [==============================] - 0s 38ms/step - loss: 73.2024 - mae: 73.7020\n",
            "Epoch 94/100\n",
            "8/8 [==============================] - 0s 36ms/step - loss: 77.4218 - mae: 77.9217\n",
            "Epoch 95/100\n",
            "8/8 [==============================] - 0s 35ms/step - loss: 99.1124 - mae: 99.6124\n",
            "Epoch 96/100\n",
            "8/8 [==============================] - 0s 36ms/step - loss: 114.4451 - mae: 114.9450\n",
            "Epoch 97/100\n",
            "8/8 [==============================] - 0s 38ms/step - loss: 103.7172 - mae: 104.2171\n",
            "Epoch 98/100\n",
            "8/8 [==============================] - 0s 36ms/step - loss: 121.0832 - mae: 121.5830\n",
            "Epoch 99/100\n",
            "8/8 [==============================] - 0s 37ms/step - loss: 160.8802 - mae: 161.3800\n",
            "Epoch 100/100\n",
            "8/8 [==============================] - 0s 38ms/step - loss: 205.8485 - mae: 206.3483\n"
          ],
          "name": "stdout"
        }
      ]
    },
    {
      "cell_type": "code",
      "metadata": {
        "id": "YGNsWceq8OI8",
        "outputId": "e234ffd1-a6fd-421f-f0dc-5706cdeb2301",
        "colab": {
          "base_uri": "https://localhost:8080/",
          "height": 290
        }
      },
      "source": [
        "plt.semilogx(history.history[\"lr\"], history.history[\"loss\"])\n",
        "plt.axis([1e-7, 1e-4, 0, 30])"
      ],
      "execution_count": 15,
      "outputs": [
        {
          "output_type": "execute_result",
          "data": {
            "text/plain": [
              "(1e-07, 0.0001, 0.0, 30.0)"
            ]
          },
          "metadata": {
            "tags": []
          },
          "execution_count": 15
        },
        {
          "output_type": "display_data",
          "data": {
            "image/png": "[encoded data removed]",
            "text/plain": [
              "<Figure size 432x288 with 1 Axes>"
            ]
          },
          "metadata": {
            "tags": [],
            "needs_background": "light"
          }
        }
      ]
    },
    {
      "cell_type": "code",
      "metadata": {
        "id": "G9lDnb0X8OI9",
        "outputId": "63729bb7-a6d5-45d6-f4c1-9701b83f3506",
        "colab": {
          "base_uri": "https://localhost:8080/"
        }
      },
      "source": [
        "keras.backend.clear_session()\n",
        "tf.random.set_seed(42)\n",
        "np.random.seed(42)\n",
        "\n",
        "window_size = 30\n",
        "train_set = seq2seq_window_dataset(x_train, window_size,\n",
        "                                   batch_size=128)\n",
        "valid_set = seq2seq_window_dataset(x_valid, window_size,\n",
        "                                   batch_size=128)\n",
        "\n",
        "model = keras.models.Sequential([\n",
        "  keras.layers.SimpleRNN(100, return_sequences=True,\n",
        "                         input_shape=[None, 1]),\n",
        "  keras.layers.SimpleRNN(100, return_sequences=True),\n",
        "  keras.layers.Dense(1),\n",
        "  keras.layers.Lambda(lambda x: x * 200.0)\n",
        "])\n",
        "optimizer = keras.optimizers.SGD(lr=1e-6, momentum=0.9)\n",
        "model.compile(loss=keras.losses.Huber(),\n",
        "              optimizer=optimizer,\n",
        "              metrics=[\"mae\"])\n",
        "early_stopping = keras.callbacks.EarlyStopping(patience=10)\n",
        "model.fit(train_set, epochs=500,\n",
        "          validation_data=valid_set,\n",
        "          callbacks=[early_stopping])"
      ],
      "execution_count": 16,
      "outputs": [
        {
          "output_type": "stream",
          "text": [
            "Epoch 1/500\n",
            "8/8 [==============================] - 2s 102ms/step - loss: 61.3628 - mae: 61.8615 - val_loss: 17.9209 - val_mae: 18.4157\n",
            "Epoch 2/500\n",
            "8/8 [==============================] - 1s 59ms/step - loss: 35.1587 - mae: 35.6564 - val_loss: 20.5481 - val_mae: 21.0440\n",
            "Epoch 3/500\n",
            "8/8 [==============================] - 1s 58ms/step - loss: 29.5358 - mae: 30.0314 - val_loss: 37.8711 - val_mae: 38.3705\n",
            "Epoch 4/500\n",
            "8/8 [==============================] - 1s 57ms/step - loss: 21.7889 - mae: 22.2825 - val_loss: 25.2684 - val_mae: 25.7674\n",
            "Epoch 5/500\n",
            "8/8 [==============================] - 1s 57ms/step - loss: 17.9243 - mae: 18.4150 - val_loss: 15.3555 - val_mae: 15.8504\n",
            "Epoch 6/500\n",
            "8/8 [==============================] - 1s 59ms/step - loss: 14.9311 - mae: 15.4179 - val_loss: 9.4217 - val_mae: 9.9070\n",
            "Epoch 7/500\n",
            "8/8 [==============================] - 1s 57ms/step - loss: 14.3013 - mae: 14.7875 - val_loss: 9.1618 - val_mae: 9.6475\n",
            "Epoch 8/500\n",
            "8/8 [==============================] - 1s 58ms/step - loss: 13.3353 - mae: 13.8192 - val_loss: 9.8610 - val_mae: 10.3506\n",
            "Epoch 9/500\n",
            "8/8 [==============================] - 1s 59ms/step - loss: 12.6762 - mae: 13.1594 - val_loss: 8.1729 - val_mae: 8.6572\n",
            "Epoch 10/500\n",
            "8/8 [==============================] - 1s 58ms/step - loss: 11.6719 - mae: 12.1551 - val_loss: 8.1780 - val_mae: 8.6608\n",
            "Epoch 11/500\n",
            "8/8 [==============================] - 1s 58ms/step - loss: 11.0487 - mae: 11.5307 - val_loss: 8.2508 - val_mae: 8.7357\n",
            "Epoch 12/500\n",
            "8/8 [==============================] - 1s 58ms/step - loss: 11.3433 - mae: 11.8249 - val_loss: 7.7045 - val_mae: 8.1899\n",
            "Epoch 13/500\n",
            "8/8 [==============================] - 1s 59ms/step - loss: 11.2035 - mae: 11.6869 - val_loss: 7.8013 - val_mae: 8.2838\n",
            "Epoch 14/500\n",
            "8/8 [==============================] - 1s 57ms/step - loss: 10.2596 - mae: 10.7418 - val_loss: 7.5620 - val_mae: 8.0454\n",
            "Epoch 15/500\n",
            "8/8 [==============================] - 1s 58ms/step - loss: 10.0513 - mae: 10.5337 - val_loss: 7.4425 - val_mae: 7.9259\n",
            "Epoch 16/500\n",
            "8/8 [==============================] - 1s 56ms/step - loss: 10.2158 - mae: 10.6980 - val_loss: 7.3019 - val_mae: 7.7855\n",
            "Epoch 17/500\n",
            "8/8 [==============================] - 1s 59ms/step - loss: 9.5550 - mae: 10.0374 - val_loss: 7.2305 - val_mae: 7.7128\n",
            "Epoch 18/500\n",
            "8/8 [==============================] - 1s 85ms/step - loss: 9.2078 - mae: 9.6901 - val_loss: 7.2973 - val_mae: 7.7811\n",
            "Epoch 19/500\n",
            "8/8 [==============================] - 1s 56ms/step - loss: 8.8755 - mae: 9.3567 - val_loss: 7.0410 - val_mae: 7.5227\n",
            "Epoch 20/500\n",
            "8/8 [==============================] - 1s 57ms/step - loss: 9.1084 - mae: 9.5902 - val_loss: 6.9231 - val_mae: 7.4054\n",
            "Epoch 21/500\n",
            "8/8 [==============================] - 1s 57ms/step - loss: 9.3256 - mae: 9.8068 - val_loss: 6.8684 - val_mae: 7.3498\n",
            "Epoch 22/500\n",
            "8/8 [==============================] - 1s 59ms/step - loss: 8.6213 - mae: 9.1032 - val_loss: 6.7681 - val_mae: 7.2486\n",
            "Epoch 23/500\n",
            "8/8 [==============================] - 1s 57ms/step - loss: 8.7952 - mae: 9.2757 - val_loss: 6.9130 - val_mae: 7.3982\n",
            "Epoch 24/500\n",
            "8/8 [==============================] - 1s 58ms/step - loss: 8.6273 - mae: 9.1077 - val_loss: 6.7497 - val_mae: 7.2318\n",
            "Epoch 25/500\n",
            "8/8 [==============================] - 1s 58ms/step - loss: 8.3649 - mae: 8.8461 - val_loss: 6.6384 - val_mae: 7.1198\n",
            "Epoch 26/500\n",
            "8/8 [==============================] - 1s 57ms/step - loss: 8.6248 - mae: 9.1064 - val_loss: 6.4466 - val_mae: 6.9236\n",
            "Epoch 27/500\n",
            "8/8 [==============================] - 1s 56ms/step - loss: 7.8108 - mae: 8.2921 - val_loss: 6.4515 - val_mae: 6.9306\n",
            "Epoch 28/500\n",
            "8/8 [==============================] - 1s 58ms/step - loss: 7.7845 - mae: 8.2651 - val_loss: 6.5570 - val_mae: 7.0406\n",
            "Epoch 29/500\n",
            "8/8 [==============================] - 1s 56ms/step - loss: 8.0897 - mae: 8.5701 - val_loss: 6.2728 - val_mae: 6.7472\n",
            "Epoch 30/500\n",
            "8/8 [==============================] - 1s 59ms/step - loss: 8.1136 - mae: 8.5946 - val_loss: 6.6967 - val_mae: 7.1815\n",
            "Epoch 31/500\n",
            "8/8 [==============================] - 1s 59ms/step - loss: 8.2891 - mae: 8.7696 - val_loss: 6.1268 - val_mae: 6.6057\n",
            "Epoch 32/500\n",
            "8/8 [==============================] - 1s 61ms/step - loss: 7.8279 - mae: 8.3091 - val_loss: 6.6857 - val_mae: 7.1703\n",
            "Epoch 33/500\n",
            "8/8 [==============================] - 1s 60ms/step - loss: 7.5582 - mae: 8.0386 - val_loss: 6.0753 - val_mae: 6.5512\n",
            "Epoch 34/500\n",
            "8/8 [==============================] - 1s 59ms/step - loss: 7.6733 - mae: 8.1546 - val_loss: 6.3348 - val_mae: 6.8185\n",
            "Epoch 35/500\n",
            "8/8 [==============================] - 1s 60ms/step - loss: 7.6514 - mae: 8.1313 - val_loss: 6.0378 - val_mae: 6.5139\n",
            "Epoch 36/500\n",
            "8/8 [==============================] - 1s 64ms/step - loss: 7.1951 - mae: 7.6757 - val_loss: 6.1865 - val_mae: 6.6674\n",
            "Epoch 37/500\n",
            "8/8 [==============================] - 1s 57ms/step - loss: 7.1835 - mae: 7.6644 - val_loss: 6.0786 - val_mae: 6.5582\n",
            "Epoch 38/500\n",
            "8/8 [==============================] - 1s 60ms/step - loss: 7.1821 - mae: 7.6639 - val_loss: 6.0684 - val_mae: 6.5479\n",
            "Epoch 39/500\n",
            "8/8 [==============================] - 1s 59ms/step - loss: 7.5521 - mae: 8.0341 - val_loss: 6.1053 - val_mae: 6.5854\n",
            "Epoch 40/500\n",
            "8/8 [==============================] - 1s 59ms/step - loss: 7.1238 - mae: 7.6051 - val_loss: 5.9208 - val_mae: 6.3990\n",
            "Epoch 41/500\n",
            "8/8 [==============================] - 1s 59ms/step - loss: 7.0490 - mae: 7.5300 - val_loss: 5.9483 - val_mae: 6.4270\n",
            "Epoch 42/500\n",
            "8/8 [==============================] - 1s 58ms/step - loss: 7.0394 - mae: 7.5211 - val_loss: 5.9384 - val_mae: 6.4174\n",
            "Epoch 43/500\n",
            "8/8 [==============================] - 1s 59ms/step - loss: 7.1819 - mae: 7.6634 - val_loss: 5.8196 - val_mae: 6.2968\n",
            "Epoch 44/500\n",
            "8/8 [==============================] - 1s 56ms/step - loss: 6.9857 - mae: 7.4667 - val_loss: 5.9777 - val_mae: 6.4585\n",
            "Epoch 45/500\n",
            "8/8 [==============================] - 1s 59ms/step - loss: 7.0825 - mae: 7.5638 - val_loss: 5.8453 - val_mae: 6.3236\n",
            "Epoch 46/500\n",
            "8/8 [==============================] - 1s 58ms/step - loss: 6.8581 - mae: 7.3402 - val_loss: 5.9745 - val_mae: 6.4567\n",
            "Epoch 47/500\n",
            "8/8 [==============================] - 1s 58ms/step - loss: 6.6321 - mae: 7.1124 - val_loss: 5.6930 - val_mae: 6.1683\n",
            "Epoch 48/500\n",
            "8/8 [==============================] - 1s 57ms/step - loss: 6.5500 - mae: 7.0303 - val_loss: 5.8917 - val_mae: 6.3713\n",
            "Epoch 49/500\n",
            "8/8 [==============================] - 1s 58ms/step - loss: 6.5469 - mae: 7.0276 - val_loss: 5.7787 - val_mae: 6.2573\n",
            "Epoch 50/500\n",
            "8/8 [==============================] - 1s 55ms/step - loss: 6.5396 - mae: 7.0195 - val_loss: 5.7283 - val_mae: 6.2063\n",
            "Epoch 51/500\n",
            "8/8 [==============================] - 1s 58ms/step - loss: 6.6121 - mae: 7.0926 - val_loss: 5.7470 - val_mae: 6.2248\n",
            "Epoch 52/500\n",
            "8/8 [==============================] - 1s 55ms/step - loss: 6.8080 - mae: 7.2887 - val_loss: 5.7311 - val_mae: 6.2093\n",
            "Epoch 53/500\n",
            "8/8 [==============================] - 1s 58ms/step - loss: 6.4075 - mae: 6.8870 - val_loss: 5.6912 - val_mae: 6.1687\n",
            "Epoch 54/500\n",
            "8/8 [==============================] - 1s 59ms/step - loss: 6.6859 - mae: 7.1663 - val_loss: 5.6069 - val_mae: 6.0830\n",
            "Epoch 55/500\n",
            "8/8 [==============================] - 1s 57ms/step - loss: 6.6095 - mae: 7.0908 - val_loss: 5.7314 - val_mae: 6.2103\n",
            "Epoch 56/500\n",
            "8/8 [==============================] - 1s 57ms/step - loss: 6.4046 - mae: 6.8850 - val_loss: 5.6089 - val_mae: 6.0850\n",
            "Epoch 57/500\n",
            "8/8 [==============================] - 1s 56ms/step - loss: 6.5643 - mae: 7.0441 - val_loss: 5.7441 - val_mae: 6.2233\n",
            "Epoch 58/500\n",
            "8/8 [==============================] - 1s 59ms/step - loss: 6.4919 - mae: 6.9717 - val_loss: 5.5397 - val_mae: 6.0159\n",
            "Epoch 59/500\n",
            "8/8 [==============================] - 1s 57ms/step - loss: 6.4907 - mae: 6.9705 - val_loss: 5.5486 - val_mae: 6.0250\n",
            "Epoch 60/500\n",
            "8/8 [==============================] - 1s 59ms/step - loss: 6.3279 - mae: 6.8079 - val_loss: 5.6414 - val_mae: 6.1190\n",
            "Epoch 61/500\n",
            "8/8 [==============================] - 1s 57ms/step - loss: 6.4859 - mae: 6.9650 - val_loss: 5.4949 - val_mae: 5.9711\n",
            "Epoch 62/500\n",
            "8/8 [==============================] - 1s 58ms/step - loss: 6.2315 - mae: 6.7112 - val_loss: 5.6962 - val_mae: 6.1758\n",
            "Epoch 63/500\n",
            "8/8 [==============================] - 1s 58ms/step - loss: 6.3559 - mae: 6.8343 - val_loss: 5.4634 - val_mae: 5.9396\n",
            "Epoch 64/500\n",
            "8/8 [==============================] - 1s 57ms/step - loss: 6.1901 - mae: 6.6701 - val_loss: 5.6596 - val_mae: 6.1384\n",
            "Epoch 65/500\n",
            "8/8 [==============================] - 1s 57ms/step - loss: 6.2278 - mae: 6.7061 - val_loss: 5.4920 - val_mae: 5.9685\n",
            "Epoch 66/500\n",
            "8/8 [==============================] - 1s 58ms/step - loss: 6.3420 - mae: 6.8208 - val_loss: 5.5227 - val_mae: 5.9986\n",
            "Epoch 67/500\n",
            "8/8 [==============================] - 1s 78ms/step - loss: 6.2165 - mae: 6.6955 - val_loss: 5.5079 - val_mae: 5.9838\n",
            "Epoch 68/500\n",
            "8/8 [==============================] - 1s 60ms/step - loss: 6.3147 - mae: 6.7940 - val_loss: 5.5154 - val_mae: 5.9910\n",
            "Epoch 69/500\n",
            "8/8 [==============================] - 1s 59ms/step - loss: 6.2089 - mae: 6.6881 - val_loss: 5.5413 - val_mae: 6.0176\n",
            "Epoch 70/500\n",
            "8/8 [==============================] - 1s 61ms/step - loss: 6.3979 - mae: 6.8764 - val_loss: 5.3948 - val_mae: 5.8713\n",
            "Epoch 71/500\n",
            "8/8 [==============================] - 1s 57ms/step - loss: 6.1965 - mae: 6.6761 - val_loss: 5.5790 - val_mae: 6.0581\n",
            "Epoch 72/500\n",
            "8/8 [==============================] - 1s 63ms/step - loss: 6.0649 - mae: 6.5438 - val_loss: 5.4278 - val_mae: 5.9045\n",
            "Epoch 73/500\n",
            "8/8 [==============================] - 1s 60ms/step - loss: 6.1185 - mae: 6.5984 - val_loss: 5.5849 - val_mae: 6.0648\n",
            "Epoch 74/500\n",
            "8/8 [==============================] - 1s 59ms/step - loss: 6.0479 - mae: 6.5263 - val_loss: 5.4474 - val_mae: 5.9229\n",
            "Epoch 75/500\n",
            "8/8 [==============================] - 1s 57ms/step - loss: 6.0258 - mae: 6.5054 - val_loss: 5.5412 - val_mae: 6.0205\n",
            "Epoch 76/500\n",
            "8/8 [==============================] - 1s 58ms/step - loss: 6.1604 - mae: 6.6383 - val_loss: 5.4268 - val_mae: 5.9025\n",
            "Epoch 77/500\n",
            "8/8 [==============================] - 1s 58ms/step - loss: 6.1086 - mae: 6.5879 - val_loss: 5.4290 - val_mae: 5.9047\n",
            "Epoch 78/500\n",
            "8/8 [==============================] - 1s 57ms/step - loss: 6.0063 - mae: 6.4863 - val_loss: 5.4693 - val_mae: 5.9471\n",
            "Epoch 79/500\n",
            "8/8 [==============================] - 1s 58ms/step - loss: 6.0052 - mae: 6.4846 - val_loss: 5.4171 - val_mae: 5.8927\n",
            "Epoch 80/500\n",
            "8/8 [==============================] - 1s 59ms/step - loss: 5.8926 - mae: 6.3712 - val_loss: 5.5149 - val_mae: 5.9946\n"
          ],
          "name": "stdout"
        },
        {
          "output_type": "execute_result",
          "data": {
            "text/plain": [
              "<tensorflow.python.keras.callbacks.History at 0x7f9e6476dcf8>"
            ]
          },
          "metadata": {
            "tags": []
          },
          "execution_count": 16
        }
      ]
    },
    {
      "cell_type": "code",
      "metadata": {
        "id": "4mglBRex8OI_",
        "outputId": "99b0b553-719b-45b1-ac8c-62986fa95be6",
        "colab": {
          "base_uri": "https://localhost:8080/",
          "height": 181
        }
      },
      "source": [
        "zrnn_forecast = model_forecast(model, series[..., np.newaxis], window_size)\n",
        "rnn_forecast = rnn_forecast[split_time - window_size:-1, -1, 0]"
      ],
      "execution_count": 17,
      "outputs": [
        {
          "output_type": "error",
          "ename": "IndexError",
          "evalue": "ignored",
          "traceback": [
            "\u001b[0;31m---------------------------------------------------------------------------\u001b[0m",
            "\u001b[0;31mIndexError\u001b[0m                                Traceback (most recent call last)",
            "\u001b[0;32m<ipython-input-17-24156fd45249>\u001b[0m in \u001b[0;36m<module>\u001b[0;34m()\u001b[0m\n\u001b[1;32m      1\u001b[0m \u001b[0mzrnn_forecast\u001b[0m \u001b[0;34m=\u001b[0m \u001b[0mmodel_forecast\u001b[0m\u001b[0;34m(\u001b[0m\u001b[0mmodel\u001b[0m\u001b[0;34m,\u001b[0m \u001b[0mseries\u001b[0m\u001b[0;34m[\u001b[0m\u001b[0;34m...\u001b[0m\u001b[0;34m,\u001b[0m \u001b[0mnp\u001b[0m\u001b[0;34m.\u001b[0m\u001b[0mnewaxis\u001b[0m\u001b[0;34m]\u001b[0m\u001b[0;34m,\u001b[0m \u001b[0mwindow_size\u001b[0m\u001b[0;34m)\u001b[0m\u001b[0;34m\u001b[0m\u001b[0;34m\u001b[0m\u001b[0m\n\u001b[0;32m----> 2\u001b[0;31m \u001b[0mrnn_forecast\u001b[0m \u001b[0;34m=\u001b[0m \u001b[0mrnn_forecast\u001b[0m\u001b[0;34m[\u001b[0m\u001b[0msplit_time\u001b[0m \u001b[0;34m-\u001b[0m \u001b[0mwindow_size\u001b[0m\u001b[0;34m:\u001b[0m\u001b[0;34m-\u001b[0m\u001b[0;36m1\u001b[0m\u001b[0;34m,\u001b[0m \u001b[0;34m-\u001b[0m\u001b[0;36m1\u001b[0m\u001b[0;34m,\u001b[0m \u001b[0;36m0\u001b[0m\u001b[0;34m]\u001b[0m\u001b[0;34m\u001b[0m\u001b[0;34m\u001b[0m\u001b[0m\n\u001b[0m",
            "\u001b[0;31mIndexError\u001b[0m: too many indices for array: array is 1-dimensional, but 3 were indexed"
          ]
        }
      ]
    },
    {
      "cell_type": "code",
      "metadata": {
        "id": "Zl_FkcdI8OJA",
        "outputId": "d8c00b75-9356-46ab-d92a-e09b2efa8e2f",
        "colab": {
          "base_uri": "https://localhost:8080/",
          "height": 388
        }
      },
      "source": [
        "plt.figure(figsize=(10, 6))\n",
        "plot_series(time_valid, x_valid)\n",
        "plot_series(time_valid, rnn_forecast)"
      ],
      "execution_count": 18,
      "outputs": [
        {
          "output_type": "display_data",
          "data": {
            "image/png": "[encoded data removed]",
            "text/plain": [
              "<Figure size 720x432 with 1 Axes>"
            ]
          },
          "metadata": {
            "tags": [],
            "needs_background": "light"
          }
        }
      ]
    },
    {
      "cell_type": "code",
      "metadata": {
        "id": "cznEtSVK8OJB",
        "outputId": "3c44ce28-fca7-4e3f-e536-e454f6a4d1ab",
        "colab": {
          "base_uri": "https://localhost:8080/"
        }
      },
      "source": [
        "keras.metrics.mean_absolute_error(x_valid, rnn_forecast).numpy()"
      ],
      "execution_count": 19,
      "outputs": [
        {
          "output_type": "execute_result",
          "data": {
            "text/plain": [
              "5.328219"
            ]
          },
          "metadata": {
            "tags": []
          },
          "execution_count": 19
        }
      ]
    },
    {
      "cell_type": "code",
      "metadata": {
        "id": "fR2TGyOaSwi-"
      },
      "source": [
        ""
      ],
      "execution_count": null,
      "outputs": []
    }
  ]
}